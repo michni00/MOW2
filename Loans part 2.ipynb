{
 "cells": [
  {
   "cell_type": "code",
   "execution_count": 6,
   "id": "aed08bda",
   "metadata": {
    "executionInfo": {
     "elapsed": 2418,
     "status": "ok",
     "timestamp": 1699106868576,
     "user": {
      "displayName": "Patryk Radon",
      "userId": "00040386629681942235"
     },
     "user_tz": -60
    },
    "id": "aed08bda"
   },
   "outputs": [],
   "source": [
    "import pandas as pd\n",
    "import numpy as np\n",
    "import matplotlib.pyplot as plt\n",
    "import seaborn as sns\n",
    "import plotly.express as px"
   ]
  },
  {
   "cell_type": "code",
   "execution_count": null,
   "id": "vPdsaKGIqXaF",
   "metadata": {
    "colab": {
     "base_uri": "https://localhost:8080/"
    },
    "executionInfo": {
     "elapsed": 31414,
     "status": "ok",
     "timestamp": 1699106915288,
     "user": {
      "displayName": "Patryk Radon",
      "userId": "00040386629681942235"
     },
     "user_tz": -60
    },
    "id": "vPdsaKGIqXaF",
    "outputId": "c7c7de7c-4b0c-46bc-a28d-463bde3345d5"
   },
   "outputs": [],
   "source": []
  },
  {
   "cell_type": "code",
   "execution_count": 7,
   "id": "793992b4",
   "metadata": {
    "executionInfo": {
     "elapsed": 2,
     "status": "ok",
     "timestamp": 1699106868576,
     "user": {
      "displayName": "Patryk Radon",
      "userId": "00040386629681942235"
     },
     "user_tz": -60
    },
    "id": "793992b4"
   },
   "outputs": [],
   "source": [
    "import sklearn as sk"
   ]
  },
  {
   "cell_type": "code",
   "execution_count": 8,
   "id": "b39bea14",
   "metadata": {
    "executionInfo": {
     "elapsed": 2386,
     "status": "ok",
     "timestamp": 1699106951354,
     "user": {
      "displayName": "Patryk Radon",
      "userId": "00040386629681942235"
     },
     "user_tz": -60
    },
    "id": "b39bea14"
   },
   "outputs": [],
   "source": [
    "df = pd.read_csv(\"train_lending_club.csv\")"
   ]
  },
  {
   "cell_type": "code",
   "execution_count": 9,
   "id": "b6921819",
   "metadata": {
    "executionInfo": {
     "elapsed": 388,
     "status": "ok",
     "timestamp": 1699106959970,
     "user": {
      "displayName": "Patryk Radon",
      "userId": "00040386629681942235"
     },
     "user_tz": -60
    },
    "id": "b6921819"
   },
   "outputs": [],
   "source": [
    "df['int_rate'] = np.where(np.random.rand(df['int_rate'].shape[0]) > 0.2, df['int_rate'], np.nan)\n",
    "df['revol_util'] = np.where(np.random.rand(df['revol_util'].shape[0]) > 0.2, df['revol_util'], np.nan)\n",
    "df['total_acc'] = np.where(np.random.rand(df['total_acc'].shape[0]) > 0.2, df['total_acc'], np.nan)"
   ]
  },
  {
   "cell_type": "code",
   "execution_count": 59,
   "id": "8d47b280",
   "metadata": {
    "executionInfo": {
     "elapsed": 420,
     "status": "ok",
     "timestamp": 1699108534769,
     "user": {
      "displayName": "Patryk Radon",
      "userId": "00040386629681942235"
     },
     "user_tz": -60
    },
    "id": "8d47b280"
   },
   "outputs": [],
   "source": [
    "X = pd.DataFrame(index=df.index)"
   ]
  },
  {
   "cell_type": "markdown",
   "id": "6174d74d",
   "metadata": {
    "id": "6174d74d"
   },
   "source": [
    "<h1>Podsumowanie zbioru, opis cech, ilości danych.</h1>\n",
    "\n",
    "Lending Club to platforma fintech, która działa na zasadzie pożyczek społecznościowych, gdzie inwestorzy (ludzie prywatni lub instytucje finansowe) udzielają pożyczek osobom fizycznym lub firmom. Ten rodzaj platformy umożliwia inwestorom uzyskiwanie zysków z odsetek od pożyczek udzielanych innym osobom lub firmom.\n",
    "\n",
    "\n",
    "Zbiór danych wybrany przez nas przedstawia problem klasyfikacji.\n",
    "\n",
    "Posiadamy łącznie 27 cech z których wybierzemy kilka które nas interesują:\n",
    "\n",
    "- issue_d - data, kiedy pożyczka została udzielona pożyczkobiorcy przez platformę Lending Club.\n",
    "- sub_grade - kategoria oceny kredytowej\n",
    "- term - określa, na ile miesięcy lub lat została udzielona pożyczka.\n",
    "- home_ownership - określa, czy pożyczkobiorca jest właścicielem mieszkania/domu, wynajmuje je, czy może być wynajmującym.\n",
    "- fico_range_low - skala oceny kredytowej. Ta zmienna wskazuje na dolną granicę zakresu punktacji FICO pożyczkobiorcy.\n",
    "- fico_range_high - wskazuje górną granicę zakresu punktacji FICO.\n",
    "- total_acc - oznacza liczbę wszystkich aktywnych i zamkniętych kont kredytowych, jakie ma pożyczkobiorca.\n",
    "- pub_rec - wskazuje, ile razy pożyczkobiorca miał wpisy w rejestrze publicznym dotyczące opóźnionych płatności lub problemów kredytowych.\n",
    "- revol_util - określa, ile procent dostępnego kredytu karta kredytowa lub linia kredytowa jest obecnie wykorzystywana przez pożyczkobiorcę.\n",
    "- annual_inc - roczny dochód zgłoszony przez pożyczkobiorcę w swoim wniosku o pożyczkę.\n",
    "- int_rate - stopa oprocentowania.\n",
    "- dti - wskaźnik zadłużenia do dochodu.\n",
    "- purpose - cel pożyczki.\n",
    "- verification_status - określa, czy informacje podane przez pożyczkobiorcę zostały zweryfikowane w trakcie procesu aplikacji.\n",
    "- loan_status - informacja, czy pożyczkobiorca dostał pożyczkę.\n",
    "- loan_amnt - wielkosc pozyczki\n",
    "\n",
    "Cały zbiór danych był bardzo duży, dlatego został on zredukowany do 236 000 rekordów."
   ]
  },
  {
   "cell_type": "markdown",
   "id": "e31f5768",
   "metadata": {
    "id": "e31f5768"
   },
   "source": [
    "\n",
    "1. Co do zmiennych numerycznych to większość z nich będzie wymagała pewnych transformacji żeby spełniały założenia modeli liniowych których planujemy użyć do bazowej predykcji. Głównie sprowadzać się to będzie do transformacji potęgowych oraz standaryzacji ale niektóre zmienne mogą potrzebować trasnformacji takich jak logarytm (zmienne exponencjalne), inwersje, exponente.\n",
    "2. Zmienne kategoryczne będziemy musieli w większości zaencodować. Praktyka i testy pokażą jaki encoding najlepiej tutaj zadziała. Prawdopodobnie przetestujemy dummy/one-hot encoding, aczkolwiek być może target encoding którąś ze zmiennych zadziała dobrze jako dodatkowa zmienna (aczkolwiek to samo zadanie spełni integracja zmiennej one-hot ze zmienną targetową, więc pewnie wykorzystamy tylko jedno z tych podejść).\n",
    "3. Intuicyjnie ciężko nam stwierdzić któe zmienne będzie warto ze sobą zestawiać. Wyjdzie to zresztą później na etapie modelowania gdzie będziemy mogli utworzyć dużo wariantów tych zmiennych oraz dorzućić ich integracje a następnie odseparować najlepsze z niech ze względu na poziom przydatności dla jakości predykcji.  "
   ]
  },
  {
   "cell_type": "markdown",
   "id": "BOuVRbxwq6Pk",
   "metadata": {
    "id": "BOuVRbxwq6Pk"
   },
   "source": []
  },
  {
   "cell_type": "code",
   "execution_count": 11,
   "id": "MnX3aNtnq1iQ",
   "metadata": {
    "executionInfo": {
     "elapsed": 1,
     "status": "ok",
     "timestamp": 1699108535265,
     "user": {
      "displayName": "Patryk Radon",
      "userId": "00040386629681942235"
     },
     "user_tz": -60
    },
    "id": "MnX3aNtnq1iQ"
   },
   "outputs": [],
   "source": [
    "from sklearn.preprocessing import PowerTransformer"
   ]
  },
  {
   "cell_type": "code",
   "execution_count": 12,
   "id": "c58ff7e4",
   "metadata": {
    "executionInfo": {
     "elapsed": 2,
     "status": "ok",
     "timestamp": 1699108535693,
     "user": {
      "displayName": "Patryk Radon",
      "userId": "00040386629681942235"
     },
     "user_tz": -60
    },
    "id": "c58ff7e4"
   },
   "outputs": [],
   "source": [
    "def power_transform(x):\n",
    "    tr = PowerTransformer()\n",
    "    x = tr.fit_transform(x.to_numpy().reshape(-1, 1))\n",
    "    return pd.Series(x.flatten())"
   ]
  },
  {
   "cell_type": "code",
   "execution_count": 13,
   "id": "232eb241",
   "metadata": {
    "colab": {
     "base_uri": "https://localhost:8080/",
     "height": 448
    },
    "executionInfo": {
     "elapsed": 612,
     "status": "ok",
     "timestamp": 1699108536304,
     "user": {
      "displayName": "Patryk Radon",
      "userId": "00040386629681942235"
     },
     "user_tz": -60
    },
    "id": "232eb241",
    "outputId": "0f91d81a-cdba-49f4-a6aa-77b5595a50dd"
   },
   "outputs": [
    {
     "data": {
      "text/plain": [
       "<AxesSubplot:>"
      ]
     },
     "execution_count": 13,
     "metadata": {},
     "output_type": "execute_result"
    },
    {
     "data": {
      "image/png": "[encoded data removed]",
      "text/plain": [
       "<Figure size 432x288 with 1 Axes>"
      ]
     },
     "metadata": {
      "needs_background": "light"
     },
     "output_type": "display_data"
    }
   ],
   "source": [
    "df['dti'].hist(bins=120)"
   ]
  },
  {
   "cell_type": "code",
   "execution_count": 14,
   "id": "6a8583bb",
   "metadata": {
    "colab": {
     "base_uri": "https://localhost:8080/",
     "height": 447
    },
    "executionInfo": {
     "elapsed": 464,
     "status": "ok",
     "timestamp": 1699108537152,
     "user": {
      "displayName": "Patryk Radon",
      "userId": "00040386629681942235"
     },
     "user_tz": -60
    },
    "id": "6a8583bb",
    "outputId": "550af5f5-13a3-4f37-c048-bcfeeb2100ce"
   },
   "outputs": [
    {
     "data": {
      "text/plain": [
       "<AxesSubplot:>"
      ]
     },
     "execution_count": 14,
     "metadata": {},
     "output_type": "execute_result"
    },
    {
     "data": {
      "image/png": "[encoded data removed]",
      "text/plain": [
       "<Figure size 432x288 with 1 Axes>"
      ]
     },
     "metadata": {
      "needs_background": "light"
     },
     "output_type": "display_data"
    }
   ],
   "source": [
    "df['dti'].clip(0, 40).hist(bins=120)"
   ]
  },
  {
   "cell_type": "code",
   "execution_count": 15,
   "id": "fd627dcf",
   "metadata": {
    "executionInfo": {
     "elapsed": 4,
     "status": "ok",
     "timestamp": 1699108537152,
     "user": {
      "displayName": "Patryk Radon",
      "userId": "00040386629681942235"
     },
     "user_tz": -60
    },
    "id": "fd627dcf"
   },
   "outputs": [],
   "source": [
    "# X['dti'] = power_transform(df['dti'].clip(0, 40))"
   ]
  },
  {
   "cell_type": "markdown",
   "id": "1649e15a",
   "metadata": {
    "id": "1649e15a"
   },
   "source": [
    "Rozklad nie wymaga transformacji, ale posiada wartosci odstajace. Zmienną dodamy więc w dalszej części."
   ]
  },
  {
   "cell_type": "code",
   "execution_count": 16,
   "id": "41463b03",
   "metadata": {
    "colab": {
     "base_uri": "https://localhost:8080/",
     "height": 447
    },
    "executionInfo": {
     "elapsed": 929,
     "status": "ok",
     "timestamp": 1699108538503,
     "user": {
      "displayName": "Patryk Radon",
      "userId": "00040386629681942235"
     },
     "user_tz": -60
    },
    "id": "41463b03",
    "outputId": "6220c2e9-da7f-4c0b-fd56-5ecefad02568"
   },
   "outputs": [
    {
     "data": {
      "text/plain": [
       "<AxesSubplot:>"
      ]
     },
     "execution_count": 16,
     "metadata": {},
     "output_type": "execute_result"
    },
    {
     "data": {
      "image/png": "[encoded data removed]",
      "text/plain": [
       "<Figure size 432x288 with 1 Axes>"
      ]
     },
     "metadata": {
      "needs_background": "light"
     },
     "output_type": "display_data"
    }
   ],
   "source": [
    "df['revol_util'].hist(bins=120)"
   ]
  },
  {
   "cell_type": "code",
   "execution_count": 17,
   "id": "65f3f0e2",
   "metadata": {
    "executionInfo": {
     "elapsed": 5,
     "status": "ok",
     "timestamp": 1699108538503,
     "user": {
      "displayName": "Patryk Radon",
      "userId": "00040386629681942235"
     },
     "user_tz": -60
    },
    "id": "65f3f0e2"
   },
   "outputs": [],
   "source": [
    "# X['revol_util'] = power_transform(df['revol_util'].clip(0, 100))"
   ]
  },
  {
   "cell_type": "markdown",
   "id": "496f5e40",
   "metadata": {
    "id": "496f5e40"
   },
   "source": [
    "Jak wyzej, dodatkowo na wartosc 0 warto nalozyc dodatkową flagę jako że to wartość wyróżniająca się z dystrybucji. Również zawiera wartości odstające więc dodamy ją w dalszej części projektu."
   ]
  },
  {
   "cell_type": "code",
   "execution_count": 18,
   "id": "c3657e35",
   "metadata": {
    "colab": {
     "base_uri": "https://localhost:8080/",
     "height": 447
    },
    "executionInfo": {
     "elapsed": 307,
     "status": "ok",
     "timestamp": 1699108538806,
     "user": {
      "displayName": "Patryk Radon",
      "userId": "00040386629681942235"
     },
     "user_tz": -60
    },
    "id": "c3657e35",
    "outputId": "66485da9-63d6-4cc5-925f-843d22e2962f"
   },
   "outputs": [
    {
     "data": {
      "text/plain": [
       "<AxesSubplot:>"
      ]
     },
     "execution_count": 18,
     "metadata": {},
     "output_type": "execute_result"
    },
    {
     "data": {
      "image/png": "[encoded data removed]",
      "text/plain": [
       "<Figure size 432x288 with 1 Axes>"
      ]
     },
     "metadata": {
      "needs_background": "light"
     },
     "output_type": "display_data"
    }
   ],
   "source": [
    "df['int_rate'].hist(bins=120)"
   ]
  },
  {
   "cell_type": "code",
   "execution_count": 19,
   "id": "1ae2bc2e",
   "metadata": {
    "colab": {
     "base_uri": "https://localhost:8080/",
     "height": 447
    },
    "executionInfo": {
     "elapsed": 650,
     "status": "ok",
     "timestamp": 1699108539454,
     "user": {
      "displayName": "Patryk Radon",
      "userId": "00040386629681942235"
     },
     "user_tz": -60
    },
    "id": "1ae2bc2e",
    "outputId": "5ad0b9c0-4bfe-456d-9907-dd2be7834db1"
   },
   "outputs": [
    {
     "data": {
      "text/plain": [
       "<AxesSubplot:>"
      ]
     },
     "execution_count": 19,
     "metadata": {},
     "output_type": "execute_result"
    },
    {
     "data": {
      "image/png": "[encoded data removed]",
      "text/plain": [
       "<Figure size 432x288 with 1 Axes>"
      ]
     },
     "metadata": {
      "needs_background": "light"
     },
     "output_type": "display_data"
    }
   ],
   "source": [
    "\n",
    "df['int_rate'].apply(np.log).hist(bins=120)"
   ]
  },
  {
   "cell_type": "code",
   "execution_count": 20,
   "id": "17d9ab51",
   "metadata": {
    "colab": {
     "base_uri": "https://localhost:8080/"
    },
    "executionInfo": {
     "elapsed": 3,
     "status": "ok",
     "timestamp": 1699108540259,
     "user": {
      "displayName": "Patryk Radon",
      "userId": "00040386629681942235"
     },
     "user_tz": -60
    },
    "id": "17d9ab51",
    "outputId": "a2023c2b-8429-4d4a-9ea7-d14bfde01ac7"
   },
   "outputs": [
    {
     "data": {
      "text/plain": [
       "False    189071\n",
       "True      47775\n",
       "Name: int_rate, dtype: int64"
      ]
     },
     "execution_count": 20,
     "metadata": {},
     "output_type": "execute_result"
    }
   ],
   "source": [
    "df['int_rate'].isna().value_counts()"
   ]
  },
  {
   "cell_type": "code",
   "execution_count": 21,
   "id": "afaae31f",
   "metadata": {
    "executionInfo": {
     "elapsed": 411,
     "status": "ok",
     "timestamp": 1699108541836,
     "user": {
      "displayName": "Patryk Radon",
      "userId": "00040386629681942235"
     },
     "user_tz": -60
    },
    "id": "afaae31f"
   },
   "outputs": [],
   "source": [
    "X['int_rate'] = power_transform(df['int_rate'].apply(np.log))"
   ]
  },
  {
   "cell_type": "markdown",
   "id": "d3931c11",
   "metadata": {
    "id": "d3931c11"
   },
   "source": [
    "Zmienna przedstawia proporcje i nadaje się do transformacji logarytmicznej która poprawia rozkład zmiennej (z dystrybucji beta staje się rozkładem zbliżonym do normalnego, symetrycznym)."
   ]
  },
  {
   "cell_type": "code",
   "execution_count": 22,
   "id": "c46354e6",
   "metadata": {
    "colab": {
     "base_uri": "https://localhost:8080/"
    },
    "executionInfo": {
     "elapsed": 1,
     "status": "ok",
     "timestamp": 1699108541836,
     "user": {
      "displayName": "Patryk Radon",
      "userId": "00040386629681942235"
     },
     "user_tz": -60
    },
    "id": "c46354e6",
    "outputId": "728b2841-27b4-4578-b51e-4fcc47503478"
   },
   "outputs": [
    {
     "data": {
      "text/plain": [
       "False    189317\n",
       "True      47529\n",
       "Name: total_acc, dtype: int64"
      ]
     },
     "execution_count": 22,
     "metadata": {},
     "output_type": "execute_result"
    }
   ],
   "source": [
    "df['total_acc'].isna().value_counts()"
   ]
  },
  {
   "cell_type": "markdown",
   "id": "9b9f172d",
   "metadata": {
    "id": "9b9f172d"
   },
   "source": [
    "Nieznana wartosc srodkow na koncie jest przeslanka do wyrzucenia takiej osoby ze zbioru danych. Zmienna ta jest zbyt istotna zeby ja imputowac."
   ]
  },
  {
   "cell_type": "code",
   "execution_count": 23,
   "id": "9a0a36f7",
   "metadata": {
    "colab": {
     "base_uri": "https://localhost:8080/",
     "height": 447
    },
    "executionInfo": {
     "elapsed": 864,
     "status": "ok",
     "timestamp": 1699108543526,
     "user": {
      "displayName": "Patryk Radon",
      "userId": "00040386629681942235"
     },
     "user_tz": -60
    },
    "id": "9a0a36f7",
    "outputId": "248b0f5b-101c-4480-e2a5-d4c00f8fbc5e"
   },
   "outputs": [
    {
     "data": {
      "text/plain": [
       "<AxesSubplot:>"
      ]
     },
     "execution_count": 23,
     "metadata": {},
     "output_type": "execute_result"
    },
    {
     "data": {
      "image/png": "[encoded data removed]",
      "text/plain": [
       "<Figure size 432x288 with 1 Axes>"
      ]
     },
     "metadata": {
      "needs_background": "light"
     },
     "output_type": "display_data"
    }
   ],
   "source": [
    "df['total_acc'].hist(bins=120)"
   ]
  },
  {
   "cell_type": "code",
   "execution_count": 24,
   "id": "6610baf2",
   "metadata": {
    "colab": {
     "base_uri": "https://localhost:8080/",
     "height": 447
    },
    "executionInfo": {
     "elapsed": 454,
     "status": "ok",
     "timestamp": 1699108545001,
     "user": {
      "displayName": "Patryk Radon",
      "userId": "00040386629681942235"
     },
     "user_tz": -60
    },
    "id": "6610baf2",
    "outputId": "d6324024-cc8e-479a-d27c-1c6bdf6abd0a"
   },
   "outputs": [
    {
     "data": {
      "text/plain": [
       "<AxesSubplot:>"
      ]
     },
     "execution_count": 24,
     "metadata": {},
     "output_type": "execute_result"
    },
    {
     "data": {
      "image/png": "[encoded data removed]",
      "text/plain": [
       "<Figure size 432x288 with 1 Axes>"
      ]
     },
     "metadata": {
      "needs_background": "light"
     },
     "output_type": "display_data"
    }
   ],
   "source": [
    "df['total_acc'].apply(np.log).hist(bins=120)"
   ]
  },
  {
   "cell_type": "code",
   "execution_count": 25,
   "id": "46a3fae1",
   "metadata": {
    "colab": {
     "base_uri": "https://localhost:8080/",
     "height": 449
    },
    "executionInfo": {
     "elapsed": 417,
     "status": "ok",
     "timestamp": 1699108546752,
     "user": {
      "displayName": "Patryk Radon",
      "userId": "00040386629681942235"
     },
     "user_tz": -60
    },
    "id": "46a3fae1",
    "outputId": "1fef4550-2eeb-4030-ff63-6681bd88c81d"
   },
   "outputs": [
    {
     "data": {
      "text/plain": [
       "<AxesSubplot:>"
      ]
     },
     "execution_count": 25,
     "metadata": {},
     "output_type": "execute_result"
    },
    {
     "data": {
      "image/png": "[encoded data removed]",
      "text/plain": [
       "<Figure size 432x288 with 1 Axes>"
      ]
     },
     "metadata": {
      "needs_background": "light"
     },
     "output_type": "display_data"
    }
   ],
   "source": [
    "power_transform(df['total_acc']).hist(bins=120)"
   ]
  },
  {
   "cell_type": "code",
   "execution_count": 26,
   "id": "2b515b7a",
   "metadata": {
    "executionInfo": {
     "elapsed": 418,
     "status": "ok",
     "timestamp": 1699108548442,
     "user": {
      "displayName": "Patryk Radon",
      "userId": "00040386629681942235"
     },
     "user_tz": -60
    },
    "id": "2b515b7a"
   },
   "outputs": [],
   "source": [
    "X['total_acc'] = power_transform(df['total_acc'])"
   ]
  },
  {
   "cell_type": "markdown",
   "id": "4a2aec36",
   "metadata": {
    "id": "4a2aec36"
   },
   "source": [
    "Wielkosc sumy na koncie pozyczkobiorcy wymaga transformacji potęgowej bądź logarytmicznej. Dla prostoty zastosujemy potęgową."
   ]
  },
  {
   "cell_type": "code",
   "execution_count": 27,
   "id": "40265881",
   "metadata": {
    "colab": {
     "base_uri": "https://localhost:8080/",
     "height": 449
    },
    "executionInfo": {
     "elapsed": 528,
     "status": "ok",
     "timestamp": 1699108548969,
     "user": {
      "displayName": "Patryk Radon",
      "userId": "00040386629681942235"
     },
     "user_tz": -60
    },
    "id": "40265881",
    "outputId": "560950de-7ea9-4ec2-8918-f8a625469e5a"
   },
   "outputs": [
    {
     "data": {
      "text/plain": [
       "<AxesSubplot:>"
      ]
     },
     "execution_count": 27,
     "metadata": {},
     "output_type": "execute_result"
    },
    {
     "data": {
      "image/png": "[encoded data removed]",
      "text/plain": [
       "<Figure size 432x288 with 1 Axes>"
      ]
     },
     "metadata": {
      "needs_background": "light"
     },
     "output_type": "display_data"
    }
   ],
   "source": [
    "df['loan_amnt'].hist(bins=20)"
   ]
  },
  {
   "cell_type": "code",
   "execution_count": 28,
   "id": "7ea7de5d",
   "metadata": {
    "colab": {
     "base_uri": "https://localhost:8080/",
     "height": 447
    },
    "executionInfo": {
     "elapsed": 494,
     "status": "ok",
     "timestamp": 1699108549459,
     "user": {
      "displayName": "Patryk Radon",
      "userId": "00040386629681942235"
     },
     "user_tz": -60
    },
    "id": "7ea7de5d",
    "outputId": "68374945-9bff-4a3e-e138-d3481a122788"
   },
   "outputs": [
    {
     "data": {
      "text/plain": [
       "<AxesSubplot:>"
      ]
     },
     "execution_count": 28,
     "metadata": {},
     "output_type": "execute_result"
    },
    {
     "data": {
      "image/png": "[encoded data removed]",
      "text/plain": [
       "<Figure size 432x288 with 1 Axes>"
      ]
     },
     "metadata": {
      "needs_background": "light"
     },
     "output_type": "display_data"
    }
   ],
   "source": [
    "power_transform(df['loan_amnt']).hist(bins=30)"
   ]
  },
  {
   "cell_type": "code",
   "execution_count": 29,
   "id": "a9c4afe4",
   "metadata": {
    "executionInfo": {
     "elapsed": 388,
     "status": "ok",
     "timestamp": 1699108549844,
     "user": {
      "displayName": "Patryk Radon",
      "userId": "00040386629681942235"
     },
     "user_tz": -60
    },
    "id": "a9c4afe4"
   },
   "outputs": [],
   "source": [
    "X['loan_amnt'] = power_transform(df['loan_amnt'])"
   ]
  },
  {
   "cell_type": "markdown",
   "id": "77fb09a2",
   "metadata": {
    "id": "77fb09a2"
   },
   "source": [
    "Podobnie jak wyzej."
   ]
  },
  {
   "cell_type": "markdown",
   "id": "37d87ea2",
   "metadata": {
    "id": "37d87ea2"
   },
   "source": [
    "## Zmienne czasowe\n",
    "\n",
    "1. Timestamp wskazuje na dane z ponad dwóch lat. Możliwe że żeby zrobić model, który będzie potencjalnie użyteczny trzeba będzie odłożyć końcówkę danych jako dodatkowy test set, sprawdzjący czy skuteczność modelu jest zależna od świeżości danych w stosunku do predykcji.\n",
    "\n",
    "2. Datę możemy dodatkowo dołożyć do modelu jako ilość lat, która upłynęła od pożyczki oraz sezon (kwartal roku zgodnie z pora roku). Jeśli zmienna ta będzie miała duże znaczenie w finalnym modelu, to trzeba będzie zastosować wobec niej dodatkowe akcje."
   ]
  },
  {
   "cell_type": "code",
   "execution_count": 30,
   "id": "1adf6579",
   "metadata": {
    "executionInfo": {
     "elapsed": 2,
     "status": "ok",
     "timestamp": 1699108549845,
     "user": {
      "displayName": "Patryk Radon",
      "userId": "00040386629681942235"
     },
     "user_tz": -60
    },
    "id": "1adf6579"
   },
   "outputs": [],
   "source": [
    "df['date'] = pd.to_datetime(df['issue_d'])"
   ]
  },
  {
   "cell_type": "code",
   "execution_count": 31,
   "id": "49322209",
   "metadata": {
    "executionInfo": {
     "elapsed": 2,
     "status": "ok",
     "timestamp": 1699108549845,
     "user": {
      "displayName": "Patryk Radon",
      "userId": "00040386629681942235"
     },
     "user_tz": -60
    },
    "id": "49322209"
   },
   "outputs": [],
   "source": [
    "df['date_diff_years'] = (df['date'].max() - df['date']).dt.days //365\n",
    "df['season'] = (df['date'].dt.month + 2) // 3"
   ]
  },
  {
   "cell_type": "code",
   "execution_count": 32,
   "id": "08758be7",
   "metadata": {
    "colab": {
     "base_uri": "https://localhost:8080/",
     "height": 447
    },
    "executionInfo": {
     "elapsed": 496,
     "status": "ok",
     "timestamp": 1699108550676,
     "user": {
      "displayName": "Patryk Radon",
      "userId": "00040386629681942235"
     },
     "user_tz": -60
    },
    "id": "08758be7",
    "outputId": "5aaa88e4-b4e4-478d-a462-3d0ce0590a8e"
   },
   "outputs": [
    {
     "data": {
      "text/plain": [
       "<AxesSubplot:>"
      ]
     },
     "execution_count": 32,
     "metadata": {},
     "output_type": "execute_result"
    },
    {
     "data": {
      "image/png": "[encoded data removed]",
      "text/plain": [
       "<Figure size 432x288 with 1 Axes>"
      ]
     },
     "metadata": {
      "needs_background": "light"
     },
     "output_type": "display_data"
    }
   ],
   "source": [
    "df['date_diff_years'].hist(bins=10)"
   ]
  },
  {
   "cell_type": "code",
   "execution_count": 33,
   "id": "61b0dfb1",
   "metadata": {
    "colab": {
     "base_uri": "https://localhost:8080/",
     "height": 447
    },
    "executionInfo": {
     "elapsed": 5,
     "status": "ok",
     "timestamp": 1699108550677,
     "user": {
      "displayName": "Patryk Radon",
      "userId": "00040386629681942235"
     },
     "user_tz": -60
    },
    "id": "61b0dfb1",
    "outputId": "6b63abbb-a6a2-4e46-f4fd-fd2654671ac0"
   },
   "outputs": [
    {
     "data": {
      "text/plain": [
       "<AxesSubplot:>"
      ]
     },
     "execution_count": 33,
     "metadata": {},
     "output_type": "execute_result"
    },
    {
     "data": {
      "image/png": "[encoded data removed]",
      "text/plain": [
       "<Figure size 432x288 with 1 Axes>"
      ]
     },
     "metadata": {
      "needs_background": "light"
     },
     "output_type": "display_data"
    }
   ],
   "source": [
    "df['season'].hist(bins=10)"
   ]
  },
  {
   "cell_type": "code",
   "execution_count": 34,
   "id": "458b9cfb",
   "metadata": {
    "executionInfo": {
     "elapsed": 3,
     "status": "ok",
     "timestamp": 1699108550677,
     "user": {
      "displayName": "Patryk Radon",
      "userId": "00040386629681942235"
     },
     "user_tz": -60
    },
    "id": "458b9cfb"
   },
   "outputs": [],
   "source": [
    "X = pd.concat([X, pd.get_dummies(df['season'], prefix='season')], axis=1)"
   ]
  },
  {
   "cell_type": "code",
   "execution_count": 35,
   "id": "e51d3b47",
   "metadata": {
    "executionInfo": {
     "elapsed": 3,
     "status": "ok",
     "timestamp": 1699108551123,
     "user": {
      "displayName": "Patryk Radon",
      "userId": "00040386629681942235"
     },
     "user_tz": -60
    },
    "id": "e51d3b47"
   },
   "outputs": [],
   "source": [
    "X = pd.concat([X, pd.get_dummies(df['date_diff_years'], prefix='date_diff_years')], axis=1)"
   ]
  },
  {
   "cell_type": "code",
   "execution_count": 36,
   "id": "2f4d6b10",
   "metadata": {
    "colab": {
     "base_uri": "https://localhost:8080/"
    },
    "executionInfo": {
     "elapsed": 2,
     "status": "ok",
     "timestamp": 1699108551123,
     "user": {
      "displayName": "Patryk Radon",
      "userId": "00040386629681942235"
     },
     "user_tz": -60
    },
    "id": "2f4d6b10",
    "outputId": "bdf13172-32b5-43e4-e1f5-7bf09c97ba33"
   },
   "outputs": [
    {
     "name": "stderr",
     "output_type": "stream",
     "text": [
      "C:\\Users\\michn\\AppData\\Local\\Temp\\ipykernel_17396\\2819260850.py:1: DeprecationWarning: `np.object` is a deprecated alias for the builtin `object`. To silence this warning, use `object` by itself. Doing this will not modify any behavior and is safe. \n",
      "Deprecated in NumPy 1.20; for more details and guidance: https://numpy.org/devdocs/release/1.20.0-notes.html#deprecations\n",
      "  df.loc[:, df.dtypes[df.dtypes == np.object].index].nunique()\n"
     ]
    },
    {
     "data": {
      "text/plain": [
       "issue_d                30\n",
       "sub_grade              35\n",
       "term                    2\n",
       "home_ownership          3\n",
       "purpose                14\n",
       "application_type        2\n",
       "verification_status     3\n",
       "addr_state             51\n",
       "initial_list_status     2\n",
       "dtype: int64"
      ]
     },
     "execution_count": 36,
     "metadata": {},
     "output_type": "execute_result"
    }
   ],
   "source": [
    "df.loc[:, df.dtypes[df.dtypes == np.object].index].nunique()"
   ]
  },
  {
   "cell_type": "code",
   "execution_count": 63,
   "id": "a2371437",
   "metadata": {
    "executionInfo": {
     "elapsed": 374,
     "status": "ok",
     "timestamp": 1699108551903,
     "user": {
      "displayName": "Patryk Radon",
      "userId": "00040386629681942235"
     },
     "user_tz": -60
    },
    "id": "a2371437"
   },
   "outputs": [],
   "source": [
    "for cat in ['verification_status', 'application_type', 'initial_list_status', 'home_ownership', 'term']:\n",
    "    X = pd.concat([X, pd.get_dummies(df[cat], prefix=cat)], axis=1)"
   ]
  },
  {
   "cell_type": "markdown",
   "id": "98693543",
   "metadata": {
    "id": "98693543"
   },
   "source": [
    "Zmienne kategoryczne, które mają więcej niż 10 wartości unikalnych:\n",
    "\n",
    "1. add_state nie będzie brana do modelu jako zmienna geograficzna. Mogłaby być użyteczna przy odpowednim obrobieniu danych z uwzględnieniem położenia geograficznego ale wykracza to poza zakres tej analizy.\n",
    "\n",
    "2. purpose oraz sub_grade podmienimy na target encoding za pomocą którejś znaczącej zmiennej niezależnej, bądź zmiennej zależnej.\n",
    "\n"
   ]
  },
  {
   "cell_type": "markdown",
   "id": "10ukxpHSrtSU",
   "metadata": {
    "id": "10ukxpHSrtSU"
   },
   "source": [
    "## Wartości odstające oraz brakujące"
   ]
  },
  {
   "cell_type": "code",
   "execution_count": 38,
   "id": "XocqFvSFsc0P",
   "metadata": {
    "colab": {
     "base_uri": "https://localhost:8080/",
     "height": 447
    },
    "executionInfo": {
     "elapsed": 961,
     "status": "ok",
     "timestamp": 1699108554304,
     "user": {
      "displayName": "Patryk Radon",
      "userId": "00040386629681942235"
     },
     "user_tz": -60
    },
    "id": "XocqFvSFsc0P",
    "outputId": "d452c402-2b19-4232-95df-c50c439d2079"
   },
   "outputs": [
    {
     "data": {
      "text/plain": [
       "<AxesSubplot:>"
      ]
     },
     "execution_count": 38,
     "metadata": {},
     "output_type": "execute_result"
    },
    {
     "data": {
      "image/png": "[encoded data removed]",
      "text/plain": [
       "<Figure size 432x288 with 1 Axes>"
      ]
     },
     "metadata": {
      "needs_background": "light"
     },
     "output_type": "display_data"
    }
   ],
   "source": [
    "df['dti'].clip(0, 120).hist(bins=120)"
   ]
  },
  {
   "cell_type": "code",
   "execution_count": 48,
   "id": "35fedcd8",
   "metadata": {},
   "outputs": [
    {
     "data": {
      "text/plain": [
       "<AxesSubplot:>"
      ]
     },
     "execution_count": 48,
     "metadata": {},
     "output_type": "execute_result"
    },
    {
     "data": {
      "image/png": "[encoded data removed]",
      "text/plain": [
       "<Figure size 432x288 with 1 Axes>"
      ]
     },
     "metadata": {
      "needs_background": "light"
     },
     "output_type": "display_data"
    }
   ],
   "source": [
    "df['dti'].hist(bins=120)"
   ]
  },
  {
   "cell_type": "markdown",
   "id": "KDfwWFxKsixm",
   "metadata": {
    "id": "KDfwWFxKsixm"
   },
   "source": [
    "Zmienna posiada bardzo długi ogon obserwacji powyżej 40, ze znaczącym odcięciem."
   ]
  },
  {
   "cell_type": "code",
   "execution_count": 39,
   "id": "BeoxIYansyeP",
   "metadata": {
    "colab": {
     "base_uri": "https://localhost:8080/",
     "height": 447
    },
    "executionInfo": {
     "elapsed": 823,
     "status": "ok",
     "timestamp": 1699108555542,
     "user": {
      "displayName": "Patryk Radon",
      "userId": "00040386629681942235"
     },
     "user_tz": -60
    },
    "id": "BeoxIYansyeP",
    "outputId": "f974468c-9477-4eb1-f284-d7660acdc407"
   },
   "outputs": [
    {
     "data": {
      "text/plain": [
       "<AxesSubplot:>"
      ]
     },
     "execution_count": 39,
     "metadata": {},
     "output_type": "execute_result"
    },
    {
     "data": {
      "image/png": "[encoded data removed]",
      "text/plain": [
       "<Figure size 432x288 with 1 Axes>"
      ]
     },
     "metadata": {
      "needs_background": "light"
     },
     "output_type": "display_data"
    }
   ],
   "source": [
    "df['revol_util'].clip(0, 120).hist(bins=120)"
   ]
  },
  {
   "cell_type": "code",
   "execution_count": 51,
   "id": "ce7e7384",
   "metadata": {},
   "outputs": [
    {
     "data": {
      "text/plain": [
       "<AxesSubplot:>"
      ]
     },
     "execution_count": 51,
     "metadata": {},
     "output_type": "execute_result"
    },
    {
     "data": {
      "image/png": "[encoded data removed]",
      "text/plain": [
       "<Figure size 432x288 with 1 Axes>"
      ]
     },
     "metadata": {
      "needs_background": "light"
     },
     "output_type": "display_data"
    }
   ],
   "source": [
    "df['revol_util'].hist(bins=120)"
   ]
  },
  {
   "cell_type": "code",
   "execution_count": 54,
   "id": "0ee47a58",
   "metadata": {
    "scrolled": true
   },
   "outputs": [
    {
     "data": {
      "text/plain": [
       "<AxesSubplot:>"
      ]
     },
     "execution_count": 54,
     "metadata": {},
     "output_type": "execute_result"
    },
    {
     "data": {
      "image/png": "[encoded data removed]",
      "text/plain": [
       "<Figure size 432x288 with 1 Axes>"
      ]
     },
     "metadata": {
      "needs_background": "light"
     },
     "output_type": "display_data"
    }
   ],
   "source": [
    "df['annual_inc'].hist(bins=300)"
   ]
  },
  {
   "cell_type": "code",
   "execution_count": 55,
   "id": "ea328949",
   "metadata": {},
   "outputs": [
    {
     "data": {
      "text/plain": [
       "<AxesSubplot:>"
      ]
     },
     "execution_count": 55,
     "metadata": {},
     "output_type": "execute_result"
    },
    {
     "data": {
      "image/png": "[encoded data removed]",
      "text/plain": [
       "<Figure size 432x288 with 1 Axes>"
      ]
     },
     "metadata": {
      "needs_background": "light"
     },
     "output_type": "display_data"
    }
   ],
   "source": [
    "df['annual_inc'].clip(0, 200000).hist()"
   ]
  },
  {
   "cell_type": "markdown",
   "id": "07tXCiZHvmFz",
   "metadata": {
    "id": "07tXCiZHvmFz"
   },
   "source": [
    "Obydwie ze zmiennych mają długie ogony z niewielką ilością wartości. Ustawienie wartości granicznej na wartości która stanowi punkt odcięcia dystrybucji wydaje się więc być dobrym wyjściem."
   ]
  },
  {
   "cell_type": "code",
   "execution_count": 40,
   "id": "V6HxkqTivlxq",
   "metadata": {
    "executionInfo": {
     "elapsed": 846,
     "status": "ok",
     "timestamp": 1699108556386,
     "user": {
      "displayName": "Patryk Radon",
      "userId": "00040386629681942235"
     },
     "user_tz": -60
    },
    "id": "V6HxkqTivlxq"
   },
   "outputs": [],
   "source": [
    "X['dti'] = power_transform(df['dti'].clip(0, 40))\n",
    "X['revol_util'] = power_transform(df['revol_util'].clip(0, 100))"
   ]
  },
  {
   "cell_type": "code",
   "execution_count": 41,
   "id": "XY-KvZk_wT7W",
   "metadata": {
    "colab": {
     "base_uri": "https://localhost:8080/"
    },
    "executionInfo": {
     "elapsed": 324,
     "status": "ok",
     "timestamp": 1699108575846,
     "user": {
      "displayName": "Patryk Radon",
      "userId": "00040386629681942235"
     },
     "user_tz": -60
    },
    "id": "XY-KvZk_wT7W",
    "outputId": "cb8941ae-a9dd-417e-d373-4723d673d9d0"
   },
   "outputs": [
    {
     "data": {
      "text/plain": [
       "int_rate      0.201713\n",
       "revol_util    0.201236\n",
       "total_acc     0.200675\n",
       "dtype: float64"
      ]
     },
     "execution_count": 41,
     "metadata": {},
     "output_type": "execute_result"
    }
   ],
   "source": [
    "X.loc[:, ['int_rate', 'revol_util', 'total_acc']].isna().mean()"
   ]
  },
  {
   "cell_type": "code",
   "execution_count": 42,
   "id": "2Jl8IuaXw2-T",
   "metadata": {
    "executionInfo": {
     "elapsed": 314,
     "status": "ok",
     "timestamp": 1699108634196,
     "user": {
      "displayName": "Patryk Radon",
      "userId": "00040386629681942235"
     },
     "user_tz": -60
    },
    "id": "2Jl8IuaXw2-T"
   },
   "outputs": [],
   "source": [
    "X['int_rate'] = X['int_rate'].fillna(X['int_rate'].mean())"
   ]
  },
  {
   "cell_type": "code",
   "execution_count": 43,
   "id": "K3uupLDAw_vo",
   "metadata": {
    "executionInfo": {
     "elapsed": 467,
     "status": "ok",
     "timestamp": 1699108646511,
     "user": {
      "displayName": "Patryk Radon",
      "userId": "00040386629681942235"
     },
     "user_tz": -60
    },
    "id": "K3uupLDAw_vo"
   },
   "outputs": [],
   "source": [
    "X['revol_util'] = X['revol_util'].fillna(X['revol_util'].median())"
   ]
  },
  {
   "cell_type": "code",
   "execution_count": 44,
   "id": "NhA_tOdHx53Y",
   "metadata": {
    "executionInfo": {
     "elapsed": 1252,
     "status": "ok",
     "timestamp": 1699108894109,
     "user": {
      "displayName": "Patryk Radon",
      "userId": "00040386629681942235"
     },
     "user_tz": -60
    },
    "id": "NhA_tOdHx53Y"
   },
   "outputs": [],
   "source": [
    "X['total_acc_target'] = df['date_diff_years'].astype(str)+df['season'].astype(str)\n",
    "X['total_acc_fill'] = X.groupby('total_acc_target')['total_acc'].transform('mean')\n",
    "X['total_acc'] = np.where(X['total_acc'].notna(), X['total_acc'], X['total_acc_fill'])\n",
    "X = X.drop(columns=['total_acc_fill', 'total_acc_target'])\n"
   ]
  },
  {
   "cell_type": "code",
   "execution_count": 45,
   "id": "JTSgRtZ4yV0D",
   "metadata": {
    "executionInfo": {
     "elapsed": 315,
     "status": "ok",
     "timestamp": 1699109199486,
     "user": {
      "displayName": "Patryk Radon",
      "userId": "00040386629681942235"
     },
     "user_tz": -60
    },
    "id": "JTSgRtZ4yV0D"
   },
   "outputs": [],
   "source": [
    "numerical_variables = X.columns[X.dtypes == float]"
   ]
  },
  {
   "cell_type": "code",
   "execution_count": 57,
   "id": "45bfb905",
   "metadata": {},
   "outputs": [
    {
     "data": {
      "text/html": [
       "<div>\n",
       "<style scoped>\n",
       "    .dataframe tbody tr th:only-of-type {\n",
       "        vertical-align: middle;\n",
       "    }\n",
       "\n",
       "    .dataframe tbody tr th {\n",
       "        vertical-align: top;\n",
       "    }\n",
       "\n",
       "    .dataframe thead th {\n",
       "        text-align: right;\n",
       "    }\n",
       "</style>\n",
       "<table border=\"1\" class=\"dataframe\">\n",
       "  <thead>\n",
       "    <tr style=\"text-align: right;\">\n",
       "      <th></th>\n",
       "      <th>int_rate</th>\n",
       "      <th>total_acc</th>\n",
       "      <th>loan_amnt</th>\n",
       "      <th>season_1</th>\n",
       "      <th>season_2</th>\n",
       "      <th>season_3</th>\n",
       "      <th>season_4</th>\n",
       "      <th>date_diff_years_0</th>\n",
       "      <th>date_diff_years_1</th>\n",
       "      <th>date_diff_years_2</th>\n",
       "      <th>...</th>\n",
       "      <th>application_type_Joint App</th>\n",
       "      <th>initial_list_status_f</th>\n",
       "      <th>initial_list_status_w</th>\n",
       "      <th>home_ownership_MORTGAGE</th>\n",
       "      <th>home_ownership_OWN</th>\n",
       "      <th>home_ownership_RENT</th>\n",
       "      <th>term_ 36 months</th>\n",
       "      <th>term_ 60 months</th>\n",
       "      <th>dti</th>\n",
       "      <th>revol_util</th>\n",
       "    </tr>\n",
       "  </thead>\n",
       "  <tbody>\n",
       "    <tr>\n",
       "      <th>0</th>\n",
       "      <td>1.004139e+00</td>\n",
       "      <td>0.070048</td>\n",
       "      <td>0.526883</td>\n",
       "      <td>1</td>\n",
       "      <td>0</td>\n",
       "      <td>0</td>\n",
       "      <td>0</td>\n",
       "      <td>0</td>\n",
       "      <td>0</td>\n",
       "      <td>1</td>\n",
       "      <td>...</td>\n",
       "      <td>0</td>\n",
       "      <td>1</td>\n",
       "      <td>0</td>\n",
       "      <td>1</td>\n",
       "      <td>0</td>\n",
       "      <td>0</td>\n",
       "      <td>0</td>\n",
       "      <td>1</td>\n",
       "      <td>-0.318696</td>\n",
       "      <td>1.386804</td>\n",
       "    </tr>\n",
       "    <tr>\n",
       "      <th>1</th>\n",
       "      <td>7.548622e-01</td>\n",
       "      <td>0.070048</td>\n",
       "      <td>1.485527</td>\n",
       "      <td>1</td>\n",
       "      <td>0</td>\n",
       "      <td>0</td>\n",
       "      <td>0</td>\n",
       "      <td>0</td>\n",
       "      <td>0</td>\n",
       "      <td>1</td>\n",
       "      <td>...</td>\n",
       "      <td>0</td>\n",
       "      <td>1</td>\n",
       "      <td>0</td>\n",
       "      <td>1</td>\n",
       "      <td>0</td>\n",
       "      <td>0</td>\n",
       "      <td>0</td>\n",
       "      <td>1</td>\n",
       "      <td>-0.130247</td>\n",
       "      <td>0.033159</td>\n",
       "    </tr>\n",
       "    <tr>\n",
       "      <th>2</th>\n",
       "      <td>-1.109848e+00</td>\n",
       "      <td>0.070048</td>\n",
       "      <td>-1.061478</td>\n",
       "      <td>1</td>\n",
       "      <td>0</td>\n",
       "      <td>0</td>\n",
       "      <td>0</td>\n",
       "      <td>0</td>\n",
       "      <td>0</td>\n",
       "      <td>1</td>\n",
       "      <td>...</td>\n",
       "      <td>0</td>\n",
       "      <td>0</td>\n",
       "      <td>1</td>\n",
       "      <td>0</td>\n",
       "      <td>0</td>\n",
       "      <td>1</td>\n",
       "      <td>1</td>\n",
       "      <td>0</td>\n",
       "      <td>0.280588</td>\n",
       "      <td>-1.780371</td>\n",
       "    </tr>\n",
       "    <tr>\n",
       "      <th>3</th>\n",
       "      <td>1.004139e+00</td>\n",
       "      <td>0.070048</td>\n",
       "      <td>0.301568</td>\n",
       "      <td>1</td>\n",
       "      <td>0</td>\n",
       "      <td>0</td>\n",
       "      <td>0</td>\n",
       "      <td>0</td>\n",
       "      <td>0</td>\n",
       "      <td>1</td>\n",
       "      <td>...</td>\n",
       "      <td>0</td>\n",
       "      <td>1</td>\n",
       "      <td>0</td>\n",
       "      <td>1</td>\n",
       "      <td>0</td>\n",
       "      <td>0</td>\n",
       "      <td>0</td>\n",
       "      <td>1</td>\n",
       "      <td>0.586256</td>\n",
       "      <td>0.164393</td>\n",
       "    </tr>\n",
       "    <tr>\n",
       "      <th>4</th>\n",
       "      <td>6.349987e-01</td>\n",
       "      <td>-0.865114</td>\n",
       "      <td>-0.391220</td>\n",
       "      <td>1</td>\n",
       "      <td>0</td>\n",
       "      <td>0</td>\n",
       "      <td>0</td>\n",
       "      <td>0</td>\n",
       "      <td>0</td>\n",
       "      <td>1</td>\n",
       "      <td>...</td>\n",
       "      <td>0</td>\n",
       "      <td>1</td>\n",
       "      <td>0</td>\n",
       "      <td>1</td>\n",
       "      <td>0</td>\n",
       "      <td>0</td>\n",
       "      <td>1</td>\n",
       "      <td>0</td>\n",
       "      <td>0.002461</td>\n",
       "      <td>0.606052</td>\n",
       "    </tr>\n",
       "    <tr>\n",
       "      <th>...</th>\n",
       "      <td>...</td>\n",
       "      <td>...</td>\n",
       "      <td>...</td>\n",
       "      <td>...</td>\n",
       "      <td>...</td>\n",
       "      <td>...</td>\n",
       "      <td>...</td>\n",
       "      <td>...</td>\n",
       "      <td>...</td>\n",
       "      <td>...</td>\n",
       "      <td>...</td>\n",
       "      <td>...</td>\n",
       "      <td>...</td>\n",
       "      <td>...</td>\n",
       "      <td>...</td>\n",
       "      <td>...</td>\n",
       "      <td>...</td>\n",
       "      <td>...</td>\n",
       "      <td>...</td>\n",
       "      <td>...</td>\n",
       "      <td>...</td>\n",
       "    </tr>\n",
       "    <tr>\n",
       "      <th>236841</th>\n",
       "      <td>1.391489e-01</td>\n",
       "      <td>0.716896</td>\n",
       "      <td>0.830543</td>\n",
       "      <td>0</td>\n",
       "      <td>0</td>\n",
       "      <td>0</td>\n",
       "      <td>1</td>\n",
       "      <td>1</td>\n",
       "      <td>0</td>\n",
       "      <td>0</td>\n",
       "      <td>...</td>\n",
       "      <td>0</td>\n",
       "      <td>0</td>\n",
       "      <td>1</td>\n",
       "      <td>0</td>\n",
       "      <td>0</td>\n",
       "      <td>1</td>\n",
       "      <td>1</td>\n",
       "      <td>0</td>\n",
       "      <td>0.669086</td>\n",
       "      <td>1.640291</td>\n",
       "    </tr>\n",
       "    <tr>\n",
       "      <th>236842</th>\n",
       "      <td>-4.449030e-14</td>\n",
       "      <td>-0.865114</td>\n",
       "      <td>0.122629</td>\n",
       "      <td>0</td>\n",
       "      <td>0</td>\n",
       "      <td>1</td>\n",
       "      <td>0</td>\n",
       "      <td>1</td>\n",
       "      <td>0</td>\n",
       "      <td>0</td>\n",
       "      <td>...</td>\n",
       "      <td>0</td>\n",
       "      <td>1</td>\n",
       "      <td>0</td>\n",
       "      <td>1</td>\n",
       "      <td>0</td>\n",
       "      <td>0</td>\n",
       "      <td>1</td>\n",
       "      <td>0</td>\n",
       "      <td>0.296104</td>\n",
       "      <td>-1.481328</td>\n",
       "    </tr>\n",
       "    <tr>\n",
       "      <th>236843</th>\n",
       "      <td>-9.552899e-01</td>\n",
       "      <td>-0.015200</td>\n",
       "      <td>-0.391220</td>\n",
       "      <td>1</td>\n",
       "      <td>0</td>\n",
       "      <td>0</td>\n",
       "      <td>0</td>\n",
       "      <td>1</td>\n",
       "      <td>0</td>\n",
       "      <td>0</td>\n",
       "      <td>...</td>\n",
       "      <td>0</td>\n",
       "      <td>0</td>\n",
       "      <td>1</td>\n",
       "      <td>1</td>\n",
       "      <td>0</td>\n",
       "      <td>0</td>\n",
       "      <td>1</td>\n",
       "      <td>0</td>\n",
       "      <td>-0.114981</td>\n",
       "      <td>0.033159</td>\n",
       "    </tr>\n",
       "    <tr>\n",
       "      <th>236844</th>\n",
       "      <td>4.380335e-01</td>\n",
       "      <td>-0.044667</td>\n",
       "      <td>-0.120524</td>\n",
       "      <td>0</td>\n",
       "      <td>1</td>\n",
       "      <td>0</td>\n",
       "      <td>0</td>\n",
       "      <td>1</td>\n",
       "      <td>0</td>\n",
       "      <td>0</td>\n",
       "      <td>...</td>\n",
       "      <td>0</td>\n",
       "      <td>1</td>\n",
       "      <td>0</td>\n",
       "      <td>0</td>\n",
       "      <td>0</td>\n",
       "      <td>1</td>\n",
       "      <td>0</td>\n",
       "      <td>1</td>\n",
       "      <td>0.465836</td>\n",
       "      <td>-0.504565</td>\n",
       "    </tr>\n",
       "    <tr>\n",
       "      <th>236845</th>\n",
       "      <td>1.642514e+00</td>\n",
       "      <td>-0.059430</td>\n",
       "      <td>0.830543</td>\n",
       "      <td>0</td>\n",
       "      <td>1</td>\n",
       "      <td>0</td>\n",
       "      <td>0</td>\n",
       "      <td>0</td>\n",
       "      <td>1</td>\n",
       "      <td>0</td>\n",
       "      <td>...</td>\n",
       "      <td>0</td>\n",
       "      <td>1</td>\n",
       "      <td>0</td>\n",
       "      <td>0</td>\n",
       "      <td>0</td>\n",
       "      <td>1</td>\n",
       "      <td>0</td>\n",
       "      <td>1</td>\n",
       "      <td>-0.407702</td>\n",
       "      <td>-0.074052</td>\n",
       "    </tr>\n",
       "  </tbody>\n",
       "</table>\n",
       "<p>236846 rows × 24 columns</p>\n",
       "</div>"
      ],
      "text/plain": [
       "            int_rate  total_acc  loan_amnt  season_1  season_2  season_3  \\\n",
       "0       1.004139e+00   0.070048   0.526883         1         0         0   \n",
       "1       7.548622e-01   0.070048   1.485527         1         0         0   \n",
       "2      -1.109848e+00   0.070048  -1.061478         1         0         0   \n",
       "3       1.004139e+00   0.070048   0.301568         1         0         0   \n",
       "4       6.349987e-01  -0.865114  -0.391220         1         0         0   \n",
       "...              ...        ...        ...       ...       ...       ...   \n",
       "236841  1.391489e-01   0.716896   0.830543         0         0         0   \n",
       "236842 -4.449030e-14  -0.865114   0.122629         0         0         1   \n",
       "236843 -9.552899e-01  -0.015200  -0.391220         1         0         0   \n",
       "236844  4.380335e-01  -0.044667  -0.120524         0         1         0   \n",
       "236845  1.642514e+00  -0.059430   0.830543         0         1         0   \n",
       "\n",
       "        season_4  date_diff_years_0  date_diff_years_1  date_diff_years_2  \\\n",
       "0              0                  0                  0                  1   \n",
       "1              0                  0                  0                  1   \n",
       "2              0                  0                  0                  1   \n",
       "3              0                  0                  0                  1   \n",
       "4              0                  0                  0                  1   \n",
       "...          ...                ...                ...                ...   \n",
       "236841         1                  1                  0                  0   \n",
       "236842         0                  1                  0                  0   \n",
       "236843         0                  1                  0                  0   \n",
       "236844         0                  1                  0                  0   \n",
       "236845         0                  0                  1                  0   \n",
       "\n",
       "        ...  application_type_Joint App  initial_list_status_f  \\\n",
       "0       ...                           0                      1   \n",
       "1       ...                           0                      1   \n",
       "2       ...                           0                      0   \n",
       "3       ...                           0                      1   \n",
       "4       ...                           0                      1   \n",
       "...     ...                         ...                    ...   \n",
       "236841  ...                           0                      0   \n",
       "236842  ...                           0                      1   \n",
       "236843  ...                           0                      0   \n",
       "236844  ...                           0                      1   \n",
       "236845  ...                           0                      1   \n",
       "\n",
       "        initial_list_status_w  home_ownership_MORTGAGE  home_ownership_OWN  \\\n",
       "0                           0                        1                   0   \n",
       "1                           0                        1                   0   \n",
       "2                           1                        0                   0   \n",
       "3                           0                        1                   0   \n",
       "4                           0                        1                   0   \n",
       "...                       ...                      ...                 ...   \n",
       "236841                      1                        0                   0   \n",
       "236842                      0                        1                   0   \n",
       "236843                      1                        1                   0   \n",
       "236844                      0                        0                   0   \n",
       "236845                      0                        0                   0   \n",
       "\n",
       "        home_ownership_RENT  term_ 36 months  term_ 60 months       dti  \\\n",
       "0                         0                0                1 -0.318696   \n",
       "1                         0                0                1 -0.130247   \n",
       "2                         1                1                0  0.280588   \n",
       "3                         0                0                1  0.586256   \n",
       "4                         0                1                0  0.002461   \n",
       "...                     ...              ...              ...       ...   \n",
       "236841                    1                1                0  0.669086   \n",
       "236842                    0                1                0  0.296104   \n",
       "236843                    0                1                0 -0.114981   \n",
       "236844                    1                0                1  0.465836   \n",
       "236845                    1                0                1 -0.407702   \n",
       "\n",
       "        revol_util  \n",
       "0         1.386804  \n",
       "1         0.033159  \n",
       "2        -1.780371  \n",
       "3         0.164393  \n",
       "4         0.606052  \n",
       "...            ...  \n",
       "236841    1.640291  \n",
       "236842   -1.481328  \n",
       "236843    0.033159  \n",
       "236844   -0.504565  \n",
       "236845   -0.074052  \n",
       "\n",
       "[236846 rows x 24 columns]"
      ]
     },
     "execution_count": 57,
     "metadata": {},
     "output_type": "execute_result"
    }
   ],
   "source": [
    "X"
   ]
  },
  {
   "cell_type": "markdown",
   "id": "_7iXYdoWz-Ms",
   "metadata": {
    "id": "_7iXYdoWz-Ms"
   },
   "source": [
    "## Skalowanie zmiennych"
   ]
  },
  {
   "cell_type": "code",
   "execution_count": 46,
   "id": "p1dZ_-B1zR8l",
   "metadata": {
    "executionInfo": {
     "elapsed": 299,
     "status": "ok",
     "timestamp": 1699109241545,
     "user": {
      "displayName": "Patryk Radon",
      "userId": "00040386629681942235"
     },
     "user_tz": -60
    },
    "id": "p1dZ_-B1zR8l"
   },
   "outputs": [],
   "source": [
    "from sklearn.preprocessing import StandardScaler, MinMaxScaler"
   ]
  },
  {
   "cell_type": "code",
   "execution_count": 47,
   "id": "ZpXeVwTuzYcD",
   "metadata": {
    "executionInfo": {
     "elapsed": 1327,
     "status": "ok",
     "timestamp": 1699109422107,
     "user": {
      "displayName": "Patryk Radon",
      "userId": "00040386629681942235"
     },
     "user_tz": -60
    },
    "id": "ZpXeVwTuzYcD"
   },
   "outputs": [],
   "source": [
    "#możemy wybrać metodę skalowania zmiennych numerycznych\n",
    "scaler = StandardScaler()\n",
    "# scaler = MinMaxScaler()\n",
    "\n",
    "X_num_scaled = scaler.fit_transform(X[numerical_variables])\n",
    "X_scaled = X.copy()\n",
    "X_scaled.loc[:, numerical_variables] = X_num_scaled"
   ]
  },
  {
   "cell_type": "code",
   "execution_count": null,
   "id": "N4F144Ju0Dtc",
   "metadata": {
    "id": "N4F144Ju0Dtc"
   },
   "outputs": [],
   "source": []
  }
 ],
 "metadata": {
  "colab": {
   "provenance": []
  },
  "kernelspec": {
   "display_name": "Python 3 (ipykernel)",
   "language": "python",
   "name": "python3"
  },
  "language_info": {
   "codemirror_mode": {
    "name": "ipython",
    "version": 3
   },
   "file_extension": ".py",
   "mimetype": "text/x-python",
   "name": "python",
   "nbconvert_exporter": "python",
   "pygments_lexer": "ipython3",
   "version": "3.9.12"
  }
 },
 "nbformat": 4,
 "nbformat_minor": 5
}
