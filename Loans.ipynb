{
 "cells": [
  {
   "cell_type": "code",
   "execution_count": 2,
   "id": "e9a0736a",
   "metadata": {
    "executionInfo": {
     "elapsed": 7,
     "status": "ok",
     "timestamp": 1697401226273,
     "user": {
      "displayName": "Patryk Radon",
      "userId": "00040386629681942235"
     },
     "user_tz": -120
    },
    "id": "e9a0736a"
   },
   "outputs": [],
   "source": [
    "import pandas as pd\n",
    "import matplotlib.pyplot as plt"
   ]
  },
  {
   "cell_type": "code",
   "execution_count": 3,
   "id": "4522f83e",
   "metadata": {
    "executionInfo": {
     "elapsed": 1958,
     "status": "ok",
     "timestamp": 1697401464518,
     "user": {
      "displayName": "Patryk Radon",
      "userId": "00040386629681942235"
     },
     "user_tz": -120
    },
    "id": "4522f83e"
   },
   "outputs": [],
   "source": [
    "data = pd.read_csv(\"train_lending_club.csv\")\n",
    "# data = pd.read_csv(\"/content/drive/MyDrive/MOW2/data/train_lending_club.csv\")"
   ]
  },
  {
   "cell_type": "code",
   "execution_count": 4,
   "id": "wtY9IYBjDwAM",
   "metadata": {
    "id": "wtY9IYBjDwAM"
   },
   "outputs": [],
   "source": [
    "data['issue_d'] = pd.to_datetime(data['issue_d'])"
   ]
  },
  {
   "cell_type": "code",
   "execution_count": 5,
   "id": "4688b0c1",
   "metadata": {
    "colab": {
     "base_uri": "https://localhost:8080/",
     "height": 320
    },
    "executionInfo": {
     "elapsed": 615,
     "status": "ok",
     "timestamp": 1697401477939,
     "user": {
      "displayName": "Patryk Radon",
      "userId": "00040386629681942235"
     },
     "user_tz": -120
    },
    "id": "4688b0c1",
    "outputId": "959b523a-30ce-4977-a174-a1a7511de036"
   },
   "outputs": [
    {
     "data": {
      "text/html": [
       "<div>\n",
       "<style scoped>\n",
       "    .dataframe tbody tr th:only-of-type {\n",
       "        vertical-align: middle;\n",
       "    }\n",
       "\n",
       "    .dataframe tbody tr th {\n",
       "        vertical-align: top;\n",
       "    }\n",
       "\n",
       "    .dataframe thead th {\n",
       "        text-align: right;\n",
       "    }\n",
       "</style>\n",
       "<table border=\"1\" class=\"dataframe\">\n",
       "  <thead>\n",
       "    <tr style=\"text-align: right;\">\n",
       "      <th></th>\n",
       "      <th>fico_range_low</th>\n",
       "      <th>total_acc</th>\n",
       "      <th>pub_rec</th>\n",
       "      <th>revol_util</th>\n",
       "      <th>annual_inc</th>\n",
       "      <th>int_rate</th>\n",
       "      <th>dti</th>\n",
       "      <th>mort_acc</th>\n",
       "      <th>loan_amnt</th>\n",
       "      <th>installment</th>\n",
       "      <th>pub_rec_bankruptcies</th>\n",
       "      <th>fico_range_high</th>\n",
       "      <th>revol_bal</th>\n",
       "      <th>id</th>\n",
       "      <th>open_acc</th>\n",
       "      <th>emp_length</th>\n",
       "      <th>loan_status</th>\n",
       "      <th>time_to_earliest_cr_line</th>\n",
       "    </tr>\n",
       "  </thead>\n",
       "  <tbody>\n",
       "    <tr>\n",
       "      <th>count</th>\n",
       "      <td>236846.000000</td>\n",
       "      <td>236846.000000</td>\n",
       "      <td>236846.000000</td>\n",
       "      <td>236846.000000</td>\n",
       "      <td>2.368460e+05</td>\n",
       "      <td>236846.000000</td>\n",
       "      <td>236846.000000</td>\n",
       "      <td>236846.000000</td>\n",
       "      <td>236846.000000</td>\n",
       "      <td>236846.000000</td>\n",
       "      <td>236846.000000</td>\n",
       "      <td>236846.000000</td>\n",
       "      <td>2.368460e+05</td>\n",
       "      <td>2.368460e+05</td>\n",
       "      <td>236846.000000</td>\n",
       "      <td>236846.000000</td>\n",
       "      <td>236846.000000</td>\n",
       "      <td>2.368460e+05</td>\n",
       "    </tr>\n",
       "    <tr>\n",
       "      <th>mean</th>\n",
       "      <td>694.352132</td>\n",
       "      <td>25.573229</td>\n",
       "      <td>0.239354</td>\n",
       "      <td>52.846959</td>\n",
       "      <td>7.737953e+04</td>\n",
       "      <td>12.603168</td>\n",
       "      <td>18.533785</td>\n",
       "      <td>1.733278</td>\n",
       "      <td>14626.430888</td>\n",
       "      <td>441.924072</td>\n",
       "      <td>0.138330</td>\n",
       "      <td>698.352271</td>\n",
       "      <td>1.695626e+04</td>\n",
       "      <td>4.926939e+07</td>\n",
       "      <td>11.807512</td>\n",
       "      <td>5.990234</td>\n",
       "      <td>0.831591</td>\n",
       "      <td>5.264205e+05</td>\n",
       "    </tr>\n",
       "    <tr>\n",
       "      <th>std</th>\n",
       "      <td>30.932496</td>\n",
       "      <td>12.196168</td>\n",
       "      <td>0.673022</td>\n",
       "      <td>24.012425</td>\n",
       "      <td>7.729067e+04</td>\n",
       "      <td>4.482069</td>\n",
       "      <td>9.214702</td>\n",
       "      <td>2.044617</td>\n",
       "      <td>8611.590744</td>\n",
       "      <td>257.213087</td>\n",
       "      <td>0.391776</td>\n",
       "      <td>30.933176</td>\n",
       "      <td>2.382901e+04</td>\n",
       "      <td>2.098038e+07</td>\n",
       "      <td>5.592320</td>\n",
       "      <td>4.238357</td>\n",
       "      <td>0.374230</td>\n",
       "      <td>2.413121e+05</td>\n",
       "    </tr>\n",
       "    <tr>\n",
       "      <th>min</th>\n",
       "      <td>660.000000</td>\n",
       "      <td>2.000000</td>\n",
       "      <td>0.000000</td>\n",
       "      <td>0.000000</td>\n",
       "      <td>0.000000e+00</td>\n",
       "      <td>5.320000</td>\n",
       "      <td>0.000000</td>\n",
       "      <td>0.000000</td>\n",
       "      <td>1000.000000</td>\n",
       "      <td>14.770000</td>\n",
       "      <td>0.000000</td>\n",
       "      <td>664.000000</td>\n",
       "      <td>0.000000e+00</td>\n",
       "      <td>5.670500e+04</td>\n",
       "      <td>0.000000</td>\n",
       "      <td>0.000000</td>\n",
       "      <td>0.000000</td>\n",
       "      <td>9.711360e+04</td>\n",
       "    </tr>\n",
       "    <tr>\n",
       "      <th>25%</th>\n",
       "      <td>670.000000</td>\n",
       "      <td>17.000000</td>\n",
       "      <td>0.000000</td>\n",
       "      <td>35.000000</td>\n",
       "      <td>4.600000e+04</td>\n",
       "      <td>9.170000</td>\n",
       "      <td>12.050000</td>\n",
       "      <td>0.000000</td>\n",
       "      <td>8000.000000</td>\n",
       "      <td>254.070000</td>\n",
       "      <td>0.000000</td>\n",
       "      <td>674.000000</td>\n",
       "      <td>6.127000e+03</td>\n",
       "      <td>3.319150e+07</td>\n",
       "      <td>8.000000</td>\n",
       "      <td>2.000000</td>\n",
       "      <td>1.000000</td>\n",
       "      <td>3.603744e+05</td>\n",
       "    </tr>\n",
       "    <tr>\n",
       "      <th>50%</th>\n",
       "      <td>685.000000</td>\n",
       "      <td>24.000000</td>\n",
       "      <td>0.000000</td>\n",
       "      <td>53.000000</td>\n",
       "      <td>6.500000e+04</td>\n",
       "      <td>12.290000</td>\n",
       "      <td>17.890000</td>\n",
       "      <td>1.000000</td>\n",
       "      <td>12450.000000</td>\n",
       "      <td>378.200000</td>\n",
       "      <td>0.000000</td>\n",
       "      <td>689.000000</td>\n",
       "      <td>1.139900e+04</td>\n",
       "      <td>5.297922e+07</td>\n",
       "      <td>11.000000</td>\n",
       "      <td>6.000000</td>\n",
       "      <td>1.000000</td>\n",
       "      <td>4.784832e+05</td>\n",
       "    </tr>\n",
       "    <tr>\n",
       "      <th>75%</th>\n",
       "      <td>710.000000</td>\n",
       "      <td>32.000000</td>\n",
       "      <td>0.000000</td>\n",
       "      <td>71.200000</td>\n",
       "      <td>9.200000e+04</td>\n",
       "      <td>15.310000</td>\n",
       "      <td>24.520000</td>\n",
       "      <td>3.000000</td>\n",
       "      <td>20000.000000</td>\n",
       "      <td>588.367500</td>\n",
       "      <td>0.000000</td>\n",
       "      <td>714.000000</td>\n",
       "      <td>2.043100e+04</td>\n",
       "      <td>6.664553e+07</td>\n",
       "      <td>15.000000</td>\n",
       "      <td>11.000000</td>\n",
       "      <td>1.000000</td>\n",
       "      <td>6.470496e+05</td>\n",
       "    </tr>\n",
       "    <tr>\n",
       "      <th>max</th>\n",
       "      <td>845.000000</td>\n",
       "      <td>169.000000</td>\n",
       "      <td>86.000000</td>\n",
       "      <td>182.800000</td>\n",
       "      <td>9.573072e+06</td>\n",
       "      <td>30.990000</td>\n",
       "      <td>999.000000</td>\n",
       "      <td>47.000000</td>\n",
       "      <td>40000.000000</td>\n",
       "      <td>1534.880000</td>\n",
       "      <td>9.000000</td>\n",
       "      <td>850.000000</td>\n",
       "      <td>2.560703e+06</td>\n",
       "      <td>8.436346e+07</td>\n",
       "      <td>76.000000</td>\n",
       "      <td>11.000000</td>\n",
       "      <td>1.000000</td>\n",
       "      <td>2.240525e+06</td>\n",
       "    </tr>\n",
       "  </tbody>\n",
       "</table>\n",
       "</div>"
      ],
      "text/plain": [
       "       fico_range_low      total_acc        pub_rec     revol_util  \\\n",
       "count   236846.000000  236846.000000  236846.000000  236846.000000   \n",
       "mean       694.352132      25.573229       0.239354      52.846959   \n",
       "std         30.932496      12.196168       0.673022      24.012425   \n",
       "min        660.000000       2.000000       0.000000       0.000000   \n",
       "25%        670.000000      17.000000       0.000000      35.000000   \n",
       "50%        685.000000      24.000000       0.000000      53.000000   \n",
       "75%        710.000000      32.000000       0.000000      71.200000   \n",
       "max        845.000000     169.000000      86.000000     182.800000   \n",
       "\n",
       "         annual_inc       int_rate            dti       mort_acc  \\\n",
       "count  2.368460e+05  236846.000000  236846.000000  236846.000000   \n",
       "mean   7.737953e+04      12.603168      18.533785       1.733278   \n",
       "std    7.729067e+04       4.482069       9.214702       2.044617   \n",
       "min    0.000000e+00       5.320000       0.000000       0.000000   \n",
       "25%    4.600000e+04       9.170000      12.050000       0.000000   \n",
       "50%    6.500000e+04      12.290000      17.890000       1.000000   \n",
       "75%    9.200000e+04      15.310000      24.520000       3.000000   \n",
       "max    9.573072e+06      30.990000     999.000000      47.000000   \n",
       "\n",
       "           loan_amnt    installment  pub_rec_bankruptcies  fico_range_high  \\\n",
       "count  236846.000000  236846.000000         236846.000000    236846.000000   \n",
       "mean    14626.430888     441.924072              0.138330       698.352271   \n",
       "std      8611.590744     257.213087              0.391776        30.933176   \n",
       "min      1000.000000      14.770000              0.000000       664.000000   \n",
       "25%      8000.000000     254.070000              0.000000       674.000000   \n",
       "50%     12450.000000     378.200000              0.000000       689.000000   \n",
       "75%     20000.000000     588.367500              0.000000       714.000000   \n",
       "max     40000.000000    1534.880000              9.000000       850.000000   \n",
       "\n",
       "          revol_bal            id       open_acc     emp_length  \\\n",
       "count  2.368460e+05  2.368460e+05  236846.000000  236846.000000   \n",
       "mean   1.695626e+04  4.926939e+07      11.807512       5.990234   \n",
       "std    2.382901e+04  2.098038e+07       5.592320       4.238357   \n",
       "min    0.000000e+00  5.670500e+04       0.000000       0.000000   \n",
       "25%    6.127000e+03  3.319150e+07       8.000000       2.000000   \n",
       "50%    1.139900e+04  5.297922e+07      11.000000       6.000000   \n",
       "75%    2.043100e+04  6.664553e+07      15.000000      11.000000   \n",
       "max    2.560703e+06  8.436346e+07      76.000000      11.000000   \n",
       "\n",
       "         loan_status  time_to_earliest_cr_line  \n",
       "count  236846.000000              2.368460e+05  \n",
       "mean        0.831591              5.264205e+05  \n",
       "std         0.374230              2.413121e+05  \n",
       "min         0.000000              9.711360e+04  \n",
       "25%         1.000000              3.603744e+05  \n",
       "50%         1.000000              4.784832e+05  \n",
       "75%         1.000000              6.470496e+05  \n",
       "max         1.000000              2.240525e+06  "
      ]
     },
     "execution_count": 5,
     "metadata": {},
     "output_type": "execute_result"
    }
   ],
   "source": [
    "data.describe()"
   ]
  },
  {
   "cell_type": "code",
   "execution_count": 6,
   "id": "effbfdb6",
   "metadata": {
    "colab": {
     "base_uri": "https://localhost:8080/",
     "height": 342
    },
    "executionInfo": {
     "elapsed": 10,
     "status": "ok",
     "timestamp": 1697401477942,
     "user": {
      "displayName": "Patryk Radon",
      "userId": "00040386629681942235"
     },
     "user_tz": -120
    },
    "id": "effbfdb6",
    "outputId": "4f80af03-7062-4822-c81f-a251ed282c18"
   },
   "outputs": [
    {
     "data": {
      "text/html": [
       "<div>\n",
       "<style scoped>\n",
       "    .dataframe tbody tr th:only-of-type {\n",
       "        vertical-align: middle;\n",
       "    }\n",
       "\n",
       "    .dataframe tbody tr th {\n",
       "        vertical-align: top;\n",
       "    }\n",
       "\n",
       "    .dataframe thead th {\n",
       "        text-align: right;\n",
       "    }\n",
       "</style>\n",
       "<table border=\"1\" class=\"dataframe\">\n",
       "  <thead>\n",
       "    <tr style=\"text-align: right;\">\n",
       "      <th></th>\n",
       "      <th>issue_d</th>\n",
       "      <th>sub_grade</th>\n",
       "      <th>term</th>\n",
       "      <th>home_ownership</th>\n",
       "      <th>fico_range_low</th>\n",
       "      <th>total_acc</th>\n",
       "      <th>pub_rec</th>\n",
       "      <th>revol_util</th>\n",
       "      <th>annual_inc</th>\n",
       "      <th>int_rate</th>\n",
       "      <th>...</th>\n",
       "      <th>pub_rec_bankruptcies</th>\n",
       "      <th>addr_state</th>\n",
       "      <th>initial_list_status</th>\n",
       "      <th>fico_range_high</th>\n",
       "      <th>revol_bal</th>\n",
       "      <th>id</th>\n",
       "      <th>open_acc</th>\n",
       "      <th>emp_length</th>\n",
       "      <th>loan_status</th>\n",
       "      <th>time_to_earliest_cr_line</th>\n",
       "    </tr>\n",
       "  </thead>\n",
       "  <tbody>\n",
       "    <tr>\n",
       "      <th>0</th>\n",
       "      <td>2014-01-01</td>\n",
       "      <td>D1</td>\n",
       "      <td>60 months</td>\n",
       "      <td>MORTGAGE</td>\n",
       "      <td>660.0</td>\n",
       "      <td>18.0</td>\n",
       "      <td>0.0</td>\n",
       "      <td>86.8</td>\n",
       "      <td>40440.0</td>\n",
       "      <td>16.99</td>\n",
       "      <td>...</td>\n",
       "      <td>0.0</td>\n",
       "      <td>AR</td>\n",
       "      <td>f</td>\n",
       "      <td>664.0</td>\n",
       "      <td>17264.0</td>\n",
       "      <td>11024793</td>\n",
       "      <td>11.0</td>\n",
       "      <td>2.0</td>\n",
       "      <td>1</td>\n",
       "      <td>478656.0</td>\n",
       "    </tr>\n",
       "    <tr>\n",
       "      <th>1</th>\n",
       "      <td>2014-01-01</td>\n",
       "      <td>C4</td>\n",
       "      <td>60 months</td>\n",
       "      <td>MORTGAGE</td>\n",
       "      <td>740.0</td>\n",
       "      <td>26.0</td>\n",
       "      <td>0.0</td>\n",
       "      <td>103.5</td>\n",
       "      <td>59000.0</td>\n",
       "      <td>15.61</td>\n",
       "      <td>...</td>\n",
       "      <td>0.0</td>\n",
       "      <td>VT</td>\n",
       "      <td>f</td>\n",
       "      <td>744.0</td>\n",
       "      <td>6725.0</td>\n",
       "      <td>10596078</td>\n",
       "      <td>8.0</td>\n",
       "      <td>3.0</td>\n",
       "      <td>1</td>\n",
       "      <td>541728.0</td>\n",
       "    </tr>\n",
       "    <tr>\n",
       "      <th>2</th>\n",
       "      <td>2014-01-01</td>\n",
       "      <td>A4</td>\n",
       "      <td>36 months</td>\n",
       "      <td>RENT</td>\n",
       "      <td>700.0</td>\n",
       "      <td>47.0</td>\n",
       "      <td>0.0</td>\n",
       "      <td>11.4</td>\n",
       "      <td>40000.0</td>\n",
       "      <td>7.90</td>\n",
       "      <td>...</td>\n",
       "      <td>0.0</td>\n",
       "      <td>TX</td>\n",
       "      <td>w</td>\n",
       "      <td>704.0</td>\n",
       "      <td>7613.0</td>\n",
       "      <td>10775616</td>\n",
       "      <td>27.0</td>\n",
       "      <td>1.0</td>\n",
       "      <td>1</td>\n",
       "      <td>657590.4</td>\n",
       "    </tr>\n",
       "    <tr>\n",
       "      <th>3</th>\n",
       "      <td>2014-01-01</td>\n",
       "      <td>D1</td>\n",
       "      <td>60 months</td>\n",
       "      <td>MORTGAGE</td>\n",
       "      <td>665.0</td>\n",
       "      <td>26.0</td>\n",
       "      <td>0.0</td>\n",
       "      <td>56.2</td>\n",
       "      <td>70000.0</td>\n",
       "      <td>16.99</td>\n",
       "      <td>...</td>\n",
       "      <td>0.0</td>\n",
       "      <td>IN</td>\n",
       "      <td>f</td>\n",
       "      <td>669.0</td>\n",
       "      <td>14173.0</td>\n",
       "      <td>10765610</td>\n",
       "      <td>9.0</td>\n",
       "      <td>11.0</td>\n",
       "      <td>1</td>\n",
       "      <td>328838.4</td>\n",
       "    </tr>\n",
       "    <tr>\n",
       "      <th>4</th>\n",
       "      <td>2014-01-01</td>\n",
       "      <td>C3</td>\n",
       "      <td>36 months</td>\n",
       "      <td>MORTGAGE</td>\n",
       "      <td>700.0</td>\n",
       "      <td>15.0</td>\n",
       "      <td>1.0</td>\n",
       "      <td>67.1</td>\n",
       "      <td>120000.0</td>\n",
       "      <td>14.98</td>\n",
       "      <td>...</td>\n",
       "      <td>0.0</td>\n",
       "      <td>LA</td>\n",
       "      <td>f</td>\n",
       "      <td>704.0</td>\n",
       "      <td>2549.0</td>\n",
       "      <td>10794837</td>\n",
       "      <td>8.0</td>\n",
       "      <td>2.0</td>\n",
       "      <td>1</td>\n",
       "      <td>305164.8</td>\n",
       "    </tr>\n",
       "  </tbody>\n",
       "</table>\n",
       "<p>5 rows × 27 columns</p>\n",
       "</div>"
      ],
      "text/plain": [
       "     issue_d sub_grade        term home_ownership  fico_range_low  total_acc  \\\n",
       "0 2014-01-01        D1   60 months       MORTGAGE           660.0       18.0   \n",
       "1 2014-01-01        C4   60 months       MORTGAGE           740.0       26.0   \n",
       "2 2014-01-01        A4   36 months           RENT           700.0       47.0   \n",
       "3 2014-01-01        D1   60 months       MORTGAGE           665.0       26.0   \n",
       "4 2014-01-01        C3   36 months       MORTGAGE           700.0       15.0   \n",
       "\n",
       "   pub_rec  revol_util  annual_inc  int_rate  ...  pub_rec_bankruptcies  \\\n",
       "0      0.0        86.8     40440.0     16.99  ...                   0.0   \n",
       "1      0.0       103.5     59000.0     15.61  ...                   0.0   \n",
       "2      0.0        11.4     40000.0      7.90  ...                   0.0   \n",
       "3      0.0        56.2     70000.0     16.99  ...                   0.0   \n",
       "4      1.0        67.1    120000.0     14.98  ...                   0.0   \n",
       "\n",
       "  addr_state  initial_list_status  fico_range_high revol_bal        id  \\\n",
       "0         AR                    f            664.0   17264.0  11024793   \n",
       "1         VT                    f            744.0    6725.0  10596078   \n",
       "2         TX                    w            704.0    7613.0  10775616   \n",
       "3         IN                    f            669.0   14173.0  10765610   \n",
       "4         LA                    f            704.0    2549.0  10794837   \n",
       "\n",
       "  open_acc  emp_length loan_status time_to_earliest_cr_line  \n",
       "0     11.0         2.0           1                 478656.0  \n",
       "1      8.0         3.0           1                 541728.0  \n",
       "2     27.0         1.0           1                 657590.4  \n",
       "3      9.0        11.0           1                 328838.4  \n",
       "4      8.0         2.0           1                 305164.8  \n",
       "\n",
       "[5 rows x 27 columns]"
      ]
     },
     "execution_count": 6,
     "metadata": {},
     "output_type": "execute_result"
    }
   ],
   "source": [
    "data.head()"
   ]
  },
  {
   "cell_type": "markdown",
   "id": "4aac1f0a",
   "metadata": {
    "id": "4aac1f0a"
   },
   "source": [
    "<h1>Podsumowanie zbioru, opis cech, ilości danych.</h1>\n",
    "\n",
    "Lending Club to platforma fintech, która działa na zasadzie pożyczek społecznościowych, gdzie inwestorzy (ludzie prywatni lub instytucje finansowe) udzielają pożyczek osobom fizycznym lub firmom. Ten rodzaj platformy umożliwia inwestorom uzyskiwanie zysków z odsetek od pożyczek udzielanych innym osobom lub firmom.\n",
    "\n",
    "\n",
    "Zbiór danych wybrany przez nas przedstawia problem klasyfikacji.\n",
    "\n",
    "Posiadamy łącznie 27 cech z których wybierzemy kilka które nas interesują:\n",
    "\n",
    "- issue_d - data, kiedy pożyczka została udzielona pożyczkobiorcy przez platformę Lending Club.\n",
    "- sub_grade - kategoria oceny kredytowej\n",
    "- term - określa, na ile miesięcy lub lat została udzielona pożyczka.\n",
    "- home_ownership - określa, czy pożyczkobiorca jest właścicielem mieszkania/domu, wynajmuje je, czy może być wynajmującym.\n",
    "- fico_range_low - skala oceny kredytowej. Ta zmienna wskazuje na dolną granicę zakresu punktacji FICO pożyczkobiorcy.\n",
    "- fico_range_high - wskazuje górną granicę zakresu punktacji FICO.\n",
    "- total_acc - oznacza liczbę wszystkich aktywnych i zamkniętych kont kredytowych, jakie ma pożyczkobiorca.\n",
    "- pub_rec - wskazuje, ile razy pożyczkobiorca miał wpisy w rejestrze publicznym dotyczące opóźnionych płatności lub problemów kredytowych.\n",
    "- revol_util - określa, ile procent dostępnego kredytu karta kredytowa lub linia kredytowa jest obecnie wykorzystywana przez pożyczkobiorcę.\n",
    "- annual_inc - roczny dochód zgłoszony przez pożyczkobiorcę w swoim wniosku o pożyczkę.\n",
    "- int_rate - stopa oprocentowania.\n",
    "- dti - wskaźnik zadłużenia do dochodu.\n",
    "- purpose - cel pożyczki.\n",
    "- verification_status - określa, czy informacje podane przez pożyczkobiorcę zostały zweryfikowane w trakcie procesu aplikacji.\n",
    "- loan_status - informacja, czy pożyczkobiorca dostał pożyczkę.\n",
    "\n",
    "Cały zbiór danych był bardzo duży, dlatego został on zredukowany do około 236 000 rekordów."
   ]
  },
  {
   "cell_type": "code",
   "execution_count": 7,
   "id": "40b4acbc",
   "metadata": {
    "colab": {
     "base_uri": "https://localhost:8080/",
     "height": 313
    },
    "executionInfo": {
     "elapsed": 8,
     "status": "ok",
     "timestamp": 1697401480330,
     "user": {
      "displayName": "Patryk Radon",
      "userId": "00040386629681942235"
     },
     "user_tz": -120
    },
    "id": "40b4acbc",
    "outputId": "c78a90eb-dd4e-4ac9-d85b-3404ef337396"
   },
   "outputs": [
    {
     "data": {
      "text/html": [
       "<div>\n",
       "<style scoped>\n",
       "    .dataframe tbody tr th:only-of-type {\n",
       "        vertical-align: middle;\n",
       "    }\n",
       "\n",
       "    .dataframe tbody tr th {\n",
       "        vertical-align: top;\n",
       "    }\n",
       "\n",
       "    .dataframe thead th {\n",
       "        text-align: right;\n",
       "    }\n",
       "</style>\n",
       "<table border=\"1\" class=\"dataframe\">\n",
       "  <thead>\n",
       "    <tr style=\"text-align: right;\">\n",
       "      <th></th>\n",
       "      <th>issue_d</th>\n",
       "      <th>sub_grade</th>\n",
       "      <th>term</th>\n",
       "      <th>home_ownership</th>\n",
       "      <th>fico_range_low</th>\n",
       "      <th>fico_range_high</th>\n",
       "      <th>total_acc</th>\n",
       "      <th>pub_rec</th>\n",
       "      <th>revol_util</th>\n",
       "      <th>annual_inc</th>\n",
       "      <th>int_rate</th>\n",
       "      <th>dti</th>\n",
       "      <th>purpose</th>\n",
       "      <th>verification_status</th>\n",
       "      <th>loan_status</th>\n",
       "    </tr>\n",
       "  </thead>\n",
       "  <tbody>\n",
       "    <tr>\n",
       "      <th>0</th>\n",
       "      <td>2014-01-01</td>\n",
       "      <td>D1</td>\n",
       "      <td>60 months</td>\n",
       "      <td>MORTGAGE</td>\n",
       "      <td>660.0</td>\n",
       "      <td>664.0</td>\n",
       "      <td>18.0</td>\n",
       "      <td>0.0</td>\n",
       "      <td>86.8</td>\n",
       "      <td>40440.0</td>\n",
       "      <td>16.99</td>\n",
       "      <td>15.16</td>\n",
       "      <td>credit_card</td>\n",
       "      <td>Verified</td>\n",
       "      <td>1</td>\n",
       "    </tr>\n",
       "    <tr>\n",
       "      <th>1</th>\n",
       "      <td>2014-01-01</td>\n",
       "      <td>C4</td>\n",
       "      <td>60 months</td>\n",
       "      <td>MORTGAGE</td>\n",
       "      <td>740.0</td>\n",
       "      <td>744.0</td>\n",
       "      <td>26.0</td>\n",
       "      <td>0.0</td>\n",
       "      <td>103.5</td>\n",
       "      <td>59000.0</td>\n",
       "      <td>15.61</td>\n",
       "      <td>16.74</td>\n",
       "      <td>credit_card</td>\n",
       "      <td>Verified</td>\n",
       "      <td>1</td>\n",
       "    </tr>\n",
       "    <tr>\n",
       "      <th>2</th>\n",
       "      <td>2014-01-01</td>\n",
       "      <td>A4</td>\n",
       "      <td>36 months</td>\n",
       "      <td>RENT</td>\n",
       "      <td>700.0</td>\n",
       "      <td>704.0</td>\n",
       "      <td>47.0</td>\n",
       "      <td>0.0</td>\n",
       "      <td>11.4</td>\n",
       "      <td>40000.0</td>\n",
       "      <td>7.90</td>\n",
       "      <td>20.34</td>\n",
       "      <td>debt_consolidation</td>\n",
       "      <td>Not Verified</td>\n",
       "      <td>1</td>\n",
       "    </tr>\n",
       "    <tr>\n",
       "      <th>3</th>\n",
       "      <td>2014-01-01</td>\n",
       "      <td>D1</td>\n",
       "      <td>60 months</td>\n",
       "      <td>MORTGAGE</td>\n",
       "      <td>665.0</td>\n",
       "      <td>669.0</td>\n",
       "      <td>26.0</td>\n",
       "      <td>0.0</td>\n",
       "      <td>56.2</td>\n",
       "      <td>70000.0</td>\n",
       "      <td>16.99</td>\n",
       "      <td>23.15</td>\n",
       "      <td>debt_consolidation</td>\n",
       "      <td>Verified</td>\n",
       "      <td>1</td>\n",
       "    </tr>\n",
       "    <tr>\n",
       "      <th>4</th>\n",
       "      <td>2014-01-01</td>\n",
       "      <td>C3</td>\n",
       "      <td>36 months</td>\n",
       "      <td>MORTGAGE</td>\n",
       "      <td>700.0</td>\n",
       "      <td>704.0</td>\n",
       "      <td>15.0</td>\n",
       "      <td>1.0</td>\n",
       "      <td>67.1</td>\n",
       "      <td>120000.0</td>\n",
       "      <td>14.98</td>\n",
       "      <td>17.88</td>\n",
       "      <td>vacation</td>\n",
       "      <td>Verified</td>\n",
       "      <td>1</td>\n",
       "    </tr>\n",
       "  </tbody>\n",
       "</table>\n",
       "</div>"
      ],
      "text/plain": [
       "     issue_d sub_grade        term home_ownership  fico_range_low  \\\n",
       "0 2014-01-01        D1   60 months       MORTGAGE           660.0   \n",
       "1 2014-01-01        C4   60 months       MORTGAGE           740.0   \n",
       "2 2014-01-01        A4   36 months           RENT           700.0   \n",
       "3 2014-01-01        D1   60 months       MORTGAGE           665.0   \n",
       "4 2014-01-01        C3   36 months       MORTGAGE           700.0   \n",
       "\n",
       "   fico_range_high  total_acc  pub_rec  revol_util  annual_inc  int_rate  \\\n",
       "0            664.0       18.0      0.0        86.8     40440.0     16.99   \n",
       "1            744.0       26.0      0.0       103.5     59000.0     15.61   \n",
       "2            704.0       47.0      0.0        11.4     40000.0      7.90   \n",
       "3            669.0       26.0      0.0        56.2     70000.0     16.99   \n",
       "4            704.0       15.0      1.0        67.1    120000.0     14.98   \n",
       "\n",
       "     dti             purpose verification_status  loan_status  \n",
       "0  15.16         credit_card            Verified            1  \n",
       "1  16.74         credit_card            Verified            1  \n",
       "2  20.34  debt_consolidation        Not Verified            1  \n",
       "3  23.15  debt_consolidation            Verified            1  \n",
       "4  17.88            vacation            Verified            1  "
      ]
     },
     "execution_count": 7,
     "metadata": {},
     "output_type": "execute_result"
    }
   ],
   "source": [
    "selected_columns = ['issue_d', 'sub_grade', 'term', 'home_ownership', 'fico_range_low', 'fico_range_high', 'total_acc',\n",
    "                    'pub_rec', 'revol_util', 'annual_inc', 'int_rate', 'dti', 'purpose', 'verification_status', 'loan_status']\n",
    "quantitative_columns = ['fico_range_low', 'fico_range_high', 'total_acc', 'pub_rec', 'revol_util',\n",
    "                         'annual_inc', 'int_rate', 'dti']\n",
    "\n",
    "data[selected_columns].head()"
   ]
  },
  {
   "cell_type": "code",
   "execution_count": 19,
   "id": "5bac451a",
   "metadata": {},
   "outputs": [
    {
     "data": {
      "text/plain": [
       "count                 236846\n",
       "unique                    14\n",
       "top       debt_consolidation\n",
       "freq                  138371\n",
       "Name: purpose, dtype: object"
      ]
     },
     "execution_count": 19,
     "metadata": {},
     "output_type": "execute_result"
    }
   ],
   "source": [
    "data['purpose'].describe()"
   ]
  },
  {
   "cell_type": "markdown",
   "id": "49253e56",
   "metadata": {
    "id": "49253e56"
   },
   "source": [
    "**Posiadamy w taki sposób 9 zmiennych ilościowych oraz 6 kategorycznych z czego jedna z nich to data.**"
   ]
  },
  {
   "cell_type": "markdown",
   "id": "9f47e42d",
   "metadata": {
    "id": "9f47e42d"
   },
   "source": [
    "<h1>Analiza danych błędnych/brakujących.</h1>"
   ]
  },
  {
   "cell_type": "code",
   "execution_count": null,
   "id": "9275142e",
   "metadata": {
    "colab": {
     "base_uri": "https://localhost:8080/"
    },
    "executionInfo": {
     "elapsed": 1531,
     "status": "ok",
     "timestamp": 1697401482838,
     "user": {
      "displayName": "Patryk Radon",
      "userId": "00040386629681942235"
     },
     "user_tz": -120
    },
    "id": "9275142e",
    "outputId": "0855c6e5-8095-42b8-bed2-72b2b153b8cb"
   },
   "outputs": [],
   "source": [
    "df = data[selected_columns]\n",
    "df.isnull().sum()"
   ]
  },
  {
   "cell_type": "markdown",
   "id": "f03e02d9",
   "metadata": {
    "id": "f03e02d9"
   },
   "source": [
    "Po analizie wybranych cech doszliśmy do wniosku, że nie ma zmiennej, której wartość równa zero mogłaby być błędna.\n",
    "\n",
    "Wartości Null również w zbiorze nie znajdziemy, dlatego przyszłościowo będziemy je dodawać w celu nauki radzenia sobie z nimi."
   ]
  },
  {
   "cell_type": "markdown",
   "id": "c74c5755",
   "metadata": {
    "id": "c74c5755"
   },
   "source": [
    "<h1>Histogramy</h1>"
   ]
  },
  {
   "cell_type": "code",
   "execution_count": null,
   "id": "4682d0d6",
   "metadata": {
    "colab": {
     "base_uri": "https://localhost:8080/",
     "height": 1000
    },
    "executionInfo": {
     "elapsed": 4848,
     "status": "ok",
     "timestamp": 1697402233164,
     "user": {
      "displayName": "Patryk Radon",
      "userId": "00040386629681942235"
     },
     "user_tz": -120
    },
    "id": "4682d0d6",
    "outputId": "8dacabd5-8ead-4e56-cbb6-f43acac12900"
   },
   "outputs": [],
   "source": [
    "for column in df.columns:\n",
    "    plt.figure(figsize=(10, 6))\n",
    "    plt.hist(df[column], bins=10)\n",
    "    plt.title(f'{column} histogram')\n",
    "    plt.xlabel('Values')\n",
    "    plt.ylabel('Occurances')\n",
    "    plt.show()"
   ]
  },
  {
   "cell_type": "markdown",
   "id": "Jo7VcHPeBCeC",
   "metadata": {
    "id": "Jo7VcHPeBCeC"
   },
   "source": [
    "Zmienne takie jak Fico mają rozkłady zbliżone do eksponencjalnych, zmienne jak interest rate, total account czy revol util mają z kolei charakter bardziej zbliżony do rozkładu Poisson lub mocno skośnych rozkładów normalnych ogarniczonych z lewej strony. Dla większości z nich potrzebne będą dodatkowe transofrmacje aby nadały się do modelowania metodami zakładającymi rozkład normalny zmiennych."
   ]
  },
  {
   "cell_type": "markdown",
   "id": "81546079",
   "metadata": {
    "id": "81546079"
   },
   "source": [
    "<h1>Boxploty</h1>"
   ]
  },
  {
   "cell_type": "code",
   "execution_count": null,
   "id": "7eb15151",
   "metadata": {
    "colab": {
     "base_uri": "https://localhost:8080/",
     "height": 1000
    },
    "executionInfo": {
     "elapsed": 2597,
     "status": "ok",
     "timestamp": 1697402241351,
     "user": {
      "displayName": "Patryk Radon",
      "userId": "00040386629681942235"
     },
     "user_tz": -120
    },
    "id": "7eb15151",
    "outputId": "c2cbae18-5057-4df7-a5b4-cddc05cd32c6"
   },
   "outputs": [],
   "source": [
    "for column in quantitative_columns:\n",
    "    plt.figure(figsize=(10, 6))\n",
    "    plt.boxplot(df[column])\n",
    "    plt.title(f'{column} boxplot')\n",
    "\n",
    "    plt.show()"
   ]
  },
  {
   "cell_type": "markdown",
   "id": "7dBDZvfYCMIv",
   "metadata": {
    "id": "7dBDZvfYCMIv"
   },
   "source": [
    "Wykresy boxplot potwierdzają powyższe hipotezy, duża ilość outliersów nie powinna przesądzać o niepożądanych zmiennych ponieważ jak już wcześniej stwierdziliśmy - część z nich ma mocno skośne lub wręcz eksponencjalne rozkłady (te drugie nie nadające się szczególnie do wizualizacji na box plocie)"
   ]
  },
  {
   "cell_type": "markdown",
   "id": "54e53d96",
   "metadata": {
    "id": "54e53d96"
   },
   "source": [
    "<h1>Wizualizacje danych w oparciu o bardziej zaawansowany wykres</h1>"
   ]
  },
  {
   "cell_type": "code",
   "execution_count": null,
   "id": "4wb9iglaDgHv",
   "metadata": {
    "colab": {
     "base_uri": "https://localhost:8080/"
    },
    "executionInfo": {
     "elapsed": 915,
     "status": "ok",
     "timestamp": 1697402306162,
     "user": {
      "displayName": "Patryk Radon",
      "userId": "00040386629681942235"
     },
     "user_tz": -120
    },
    "id": "4wb9iglaDgHv",
    "outputId": "abb3b486-220b-49f4-c7fc-c18fcab7b9e2"
   },
   "outputs": [],
   "source": [
    "df['issue_d_str'] = df['issue_d'].astype(str)"
   ]
  },
  {
   "cell_type": "code",
   "execution_count": null,
   "id": "iv0lEebFCoFT",
   "metadata": {
    "executionInfo": {
     "elapsed": 1158,
     "status": "ok",
     "timestamp": 1697401972355,
     "user": {
      "displayName": "Patryk Radon",
      "userId": "00040386629681942235"
     },
     "user_tz": -120
    },
    "id": "iv0lEebFCoFT"
   },
   "outputs": [],
   "source": [
    "import plotly.express as px"
   ]
  },
  {
   "cell_type": "code",
   "execution_count": null,
   "id": "7XMtKpdtCqVn",
   "metadata": {
    "colab": {
     "base_uri": "https://localhost:8080/",
     "height": 542
    },
    "executionInfo": {
     "elapsed": 2316,
     "status": "ok",
     "timestamp": 1697402602677,
     "user": {
      "displayName": "Patryk Radon",
      "userId": "00040386629681942235"
     },
     "user_tz": -120
    },
    "id": "7XMtKpdtCqVn",
    "outputId": "432d8695-eedd-41eb-fcba-1b14ef9ea1c6"
   },
   "outputs": [],
   "source": [
    "px.histogram(data_frame=df, x='annual_inc', color='loan_status', animation_frame='issue_d_str', barmode='overlay', histnorm='probability')"
   ]
  },
  {
   "cell_type": "markdown",
   "id": "My_5jXxLJpXH",
   "metadata": {
    "id": "My_5jXxLJpXH"
   },
   "source": [
    "Widać że pożyczki były udzielane częściej osobom z wyższym dochodem i trend ten wydaje się być niezmienny z czasem. Dane ogólnie wyglądają dość stabilne czasowo (co jest dobrą oznaką bo będziemy mogli użyć wszystkich do trenowania).  "
   ]
  },
  {
   "cell_type": "code",
   "execution_count": null,
   "id": "f2e17221",
   "metadata": {
    "executionInfo": {
     "elapsed": 4,
     "status": "ok",
     "timestamp": 1697402655045,
     "user": {
      "displayName": "Patryk Radon",
      "userId": "00040386629681942235"
     },
     "user_tz": -120
    },
    "id": "f2e17221"
   },
   "outputs": [],
   "source": [
    "# plt.figure(figsize=(10, 6))\n",
    "# plt.scatter(df['int_rate'], df['annual_inc'], c=df['loan_status'], s=df['total_acc'], label='total_acc')\n",
    "# plt.xlabel('int_rate')\n",
    "# plt.ylabel('annual_inc 2')\n",
    "# plt.colorbar(label='loan_status 3')\n",
    "# plt.title('Scatter plot with four variables')\n",
    "# plt.legend(title='Size')\n",
    "# plt.show()"
   ]
  },
  {
   "cell_type": "markdown",
   "id": "7570e971",
   "metadata": {
    "id": "7570e971"
   },
   "source": [
    "<h1>Analiza danych bazując na pandas</h1>"
   ]
  },
  {
   "cell_type": "code",
   "execution_count": null,
   "id": "9605c040",
   "metadata": {
    "colab": {
     "base_uri": "https://localhost:8080/",
     "height": 143
    },
    "executionInfo": {
     "elapsed": 332,
     "status": "ok",
     "timestamp": 1697402682780,
     "user": {
      "displayName": "Patryk Radon",
      "userId": "00040386629681942235"
     },
     "user_tz": -120
    },
    "id": "9605c040",
    "outputId": "61937566-de36-4708-be59-b4d131c1ac7f"
   },
   "outputs": [],
   "source": [
    "home_loan_means = df.groupby('home_ownership')['loan_status'].mean().reset_index()\n",
    "home_loan_means.columns = ['home_ownership', 'average loan status']\n",
    "sorted_home_loan_means = home_loan_means.sort_values(by='average loan status', ascending=False)\n",
    "sorted_home_loan_means"
   ]
  },
  {
   "cell_type": "markdown",
   "id": "06cd0ce8",
   "metadata": {
    "id": "06cd0ce8"
   },
   "source": [
    "Jest to porównanie jak często ludzie z różnym prawem własności do mieszkania- dostają pożyczkę. Wynika z tego, że ludzie, którzy posiadają kredyt hipoteczny najczęściej dostają pożyczkę, a osoby, które wynajmują mieszkanie- najrzadziej.  "
   ]
  },
  {
   "cell_type": "markdown",
   "id": "d5099f63",
   "metadata": {
    "id": "d5099f63"
   },
   "source": [
    "<h1>Analiza pairplotów (jeśli macie Państwo dużo danych można wyrysować mniej - będzie się zlewało na pairplocie, albo np. policzyć współczynniki korelacji Pearsona/Spearmana) </h1>"
   ]
  },
  {
   "cell_type": "code",
   "execution_count": null,
   "id": "27wiZsZ0A1P2",
   "metadata": {
    "executionInfo": {
     "elapsed": 284,
     "status": "ok",
     "timestamp": 1697402711867,
     "user": {
      "displayName": "Patryk Radon",
      "userId": "00040386629681942235"
     },
     "user_tz": -120
    },
    "id": "27wiZsZ0A1P2"
   },
   "outputs": [],
   "source": [
    "import seaborn as sns"
   ]
  },
  {
   "cell_type": "code",
   "execution_count": null,
   "id": "5KnWjbqoFge3",
   "metadata": {
    "colab": {
     "base_uri": "https://localhost:8080/",
     "height": 1000
    },
    "executionInfo": {
     "elapsed": 128191,
     "status": "ok",
     "timestamp": 1697402855122,
     "user": {
      "displayName": "Patryk Radon",
      "userId": "00040386629681942235"
     },
     "user_tz": -120
    },
    "id": "5KnWjbqoFge3",
    "outputId": "36ac665b-ce95-4e88-cae0-55e18d7a3136"
   },
   "outputs": [],
   "source": [
    "plt.subplots(figsize=(20,20))\n",
    "sns.pairplot(df)"
   ]
  },
  {
   "cell_type": "code",
   "execution_count": null,
   "id": "lt2_Ekb6Geej",
   "metadata": {
    "colab": {
     "base_uri": "https://localhost:8080/",
     "height": 638
    },
    "executionInfo": {
     "elapsed": 1358,
     "status": "ok",
     "timestamp": 1697402996640,
     "user": {
      "displayName": "Patryk Radon",
      "userId": "00040386629681942235"
     },
     "user_tz": -120
    },
    "id": "lt2_Ekb6Geej",
    "outputId": "79493107-4318-4e1c-fe84-ac56d2ddfe38"
   },
   "outputs": [],
   "source": [
    "sns.heatmap(df.corr())"
   ]
  },
  {
   "cell_type": "markdown",
   "id": "fcba4018",
   "metadata": {
    "id": "fcba4018"
   },
   "source": [
    "<h1>Proszę zastanowić się nad cechami jakie macie Państwo w zbiorze, tj. czy jakieś należy ze sobą zestawić, podzielić przez siebie etc, co robić z timestamp, co robić z danymi typu string itp.</h1>"
   ]
  },
  {
   "cell_type": "markdown",
   "id": "Q6xuGkDmIbCr",
   "metadata": {
    "id": "Q6xuGkDmIbCr"
   },
   "source": [
    "1. Timestamp wskazuje na dane z ponad dwóch lat. Możliwe że żeby zrobić model, który będzie potencjalnie użyteczny trzeba będzie odłożyć końcówkę danych jako dodatkowy test set, sprawdzjący czy skuteczność modelu jest zależna od świeżości danych w stosunku do predykcji.\n",
    "2. Co do zmiennych numerycznych to większość z nich będzie wymagała pewnych transformacji żeby spełniały założenia modeli liniowych których planujemy użyć do bazowej predykcji. Głównie sprowadzać się to będzie do transformacji potęgowych oraz standaryzacji ale niektóre zmienne mogą potrzebować trasnformacji takich jak logarytm (zmienne exponencjalne), inwersje, exponente.\n",
    "3. Zmienne kategoryczne będziemy musieli w większości zaencodować. Praktyka i testy pokażą jaki encoding najlepiej tutaj zadziała. Prawdopodobnie przetestujemy dummy/one-hot encoding, aczkolwiek być może target encoding którąś ze zmiennych zadziała dobrze jako dodatkowa zmienna (aczkolwiek to samo zadanie spełni integracja zmiennej one-hot ze zmienną targetową, więc pewnie wykorzystamy tylko jedno z tych podejść).\n",
    "4. Intuicyjnie ciężko nam stwierdzić które zmienne będzie warto ze sobą zestawiać. Wyjdzie to zresztą później na etapie modelowania gdzie będziemy mogli utworzyć dużo wariantów tych zmiennych oraz dorzućić ich integracje a następnie odseparować najlepsze z niech ze względu na poziom przydatności dla jakości predykcji.  "
   ]
  },
  {
   "cell_type": "markdown",
   "id": "f8312512",
   "metadata": {
    "colab": {
     "base_uri": "https://localhost:8080/"
    },
    "executionInfo": {
     "elapsed": 8736,
     "status": "ok",
     "timestamp": 1697401456343,
     "user": {
      "displayName": "Patryk Radon",
      "userId": "00040386629681942235"
     },
     "user_tz": -120
    },
    "id": "9TxonuMe_ygo",
    "outputId": "900e2e35-fe54-49f6-9b9b-84bf232c4b1b"
   },
   "source": [
    "<h1>Analiza danych odstających</h1>"
   ]
  },
  {
   "cell_type": "code",
   "execution_count": null,
   "id": "2bb16818",
   "metadata": {},
   "outputs": [],
   "source": []
  },
  {
   "cell_type": "markdown",
   "id": "01208cd5",
   "metadata": {},
   "source": [
    "<h1>Skalowanie danych</h1>"
   ]
  },
  {
   "cell_type": "code",
   "execution_count": null,
   "id": "1709e79e",
   "metadata": {},
   "outputs": [],
   "source": []
  }
 ],
 "metadata": {
  "colab": {
   "provenance": []
  },
  "kernelspec": {
   "display_name": "Python 3 (ipykernel)",
   "language": "python",
   "name": "python3"
  },
  "language_info": {
   "codemirror_mode": {
    "name": "ipython",
    "version": 3
   },
   "file_extension": ".py",
   "mimetype": "text/x-python",
   "name": "python",
   "nbconvert_exporter": "python",
   "pygments_lexer": "ipython3",
   "version": "3.9.12"
  }
 },
 "nbformat": 4,
 "nbformat_minor": 5
}
